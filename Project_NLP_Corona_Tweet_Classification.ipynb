{
  "nbformat": 4,
  "nbformat_minor": 0,
  "metadata": {
    "colab": {
      "name": "Project NLP - Corona Tweet Classification.ipynb",
      "provenance": [],
      "collapsed_sections": [],
      "authorship_tag": "ABX9TyPRCx8JOqJC9J4+fxXbSbaW",
      "include_colab_link": true
    },
    "kernelspec": {
      "name": "python3",
      "display_name": "Python 3"
    },
    "language_info": {
      "name": "python"
    }
  },
  "cells": [
    {
      "cell_type": "markdown",
      "metadata": {
        "id": "view-in-github",
        "colab_type": "text"
      },
      "source": [
        "<a href=\"https://colab.research.google.com/github/dikoharyadhanto/Machine_Learning_Project/blob/main/Project_NLP_Corona_Tweet_Classification.ipynb\" target=\"_parent\"><img src=\"https://colab.research.google.com/assets/colab-badge.svg\" alt=\"Open In Colab\"/></a>"
      ]
    },
    {
      "cell_type": "code",
      "metadata": {
        "id": "GM86cBvmP0Ay"
      },
      "source": [
        "import os\n",
        "os.environ['KAGGLE_CONFIG_DIR'] = '/content' #upload your kaggle.json first"
      ],
      "execution_count": 1,
      "outputs": []
    },
    {
      "cell_type": "code",
      "metadata": {
        "colab": {
          "base_uri": "https://localhost:8080/"
        },
        "id": "wDrbj2fxPrAv",
        "outputId": "8880ea32-6ede-411a-8e2e-bc05f64b231b"
      },
      "source": [
        "!kaggle datasets download -d datatattle/covid-19-nlp-text-classification"
      ],
      "execution_count": 2,
      "outputs": [
        {
          "output_type": "stream",
          "text": [
            "Warning: Your Kaggle API key is readable by other users on this system! To fix this, you can run 'chmod 600 /content/kaggle.json'\n",
            "Downloading covid-19-nlp-text-classification.zip to /content\n",
            "  0% 0.00/4.38M [00:00<?, ?B/s]\n",
            "100% 4.38M/4.38M [00:00<00:00, 72.6MB/s]\n"
          ],
          "name": "stdout"
        }
      ]
    },
    {
      "cell_type": "code",
      "metadata": {
        "id": "slULyUc3QDpx"
      },
      "source": [
        "!unzip -q covid-19-nlp-text-classification.zip -d ."
      ],
      "execution_count": 3,
      "outputs": []
    },
    {
      "cell_type": "markdown",
      "metadata": {
        "id": "e_eLll_RgDuR"
      },
      "source": [
        "# **Persiapan Dataset**"
      ]
    },
    {
      "cell_type": "markdown",
      "metadata": {
        "id": "I_hQb7OZl831"
      },
      "source": [
        "Dataset dapat diunggah pada [tautan](https://www.kaggle.com/datatattle/covid-19-nlp-text-classification) berikut"
      ]
    },
    {
      "cell_type": "code",
      "metadata": {
        "colab": {
          "base_uri": "https://localhost:8080/",
          "height": 204
        },
        "id": "h4VZCs5DlUbP",
        "outputId": "003fc9bb-6970-4396-8be7-39e551771fbe"
      },
      "source": [
        "import pandas as pd\n",
        "\n",
        "df_train = pd.read_csv(\"Corona_NLP_train.csv\", engine='python')\n",
        "df_test = pd.read_csv(\"Corona_NLP_test.csv\", engine='python')\n",
        "\n",
        "df = pd.concat([df_train, df_test], ignore_index=True)\n",
        "df = df.drop(columns=['UserName', 'ScreenName', 'Location', 'TweetAt'])\n",
        "\n",
        "df.head()"
      ],
      "execution_count": null,
      "outputs": [
        {
          "output_type": "execute_result",
          "data": {
            "text/html": [
              "<div>\n",
              "<style scoped>\n",
              "    .dataframe tbody tr th:only-of-type {\n",
              "        vertical-align: middle;\n",
              "    }\n",
              "\n",
              "    .dataframe tbody tr th {\n",
              "        vertical-align: top;\n",
              "    }\n",
              "\n",
              "    .dataframe thead th {\n",
              "        text-align: right;\n",
              "    }\n",
              "</style>\n",
              "<table border=\"1\" class=\"dataframe\">\n",
              "  <thead>\n",
              "    <tr style=\"text-align: right;\">\n",
              "      <th></th>\n",
              "      <th>OriginalTweet</th>\n",
              "      <th>Sentiment</th>\n",
              "    </tr>\n",
              "  </thead>\n",
              "  <tbody>\n",
              "    <tr>\n",
              "      <th>0</th>\n",
              "      <td>@MeNyrbie @Phil_Gahan @Chrisitv https://t.co/i...</td>\n",
              "      <td>Neutral</td>\n",
              "    </tr>\n",
              "    <tr>\n",
              "      <th>1</th>\n",
              "      <td>advice Talk to your neighbours family to excha...</td>\n",
              "      <td>Positive</td>\n",
              "    </tr>\n",
              "    <tr>\n",
              "      <th>2</th>\n",
              "      <td>Coronavirus Australia: Woolworths to give elde...</td>\n",
              "      <td>Positive</td>\n",
              "    </tr>\n",
              "    <tr>\n",
              "      <th>3</th>\n",
              "      <td>My food stock is not the only one which is emp...</td>\n",
              "      <td>Positive</td>\n",
              "    </tr>\n",
              "    <tr>\n",
              "      <th>4</th>\n",
              "      <td>Me, ready to go at supermarket during the #COV...</td>\n",
              "      <td>Extremely Negative</td>\n",
              "    </tr>\n",
              "  </tbody>\n",
              "</table>\n",
              "</div>"
            ],
            "text/plain": [
              "                                       OriginalTweet           Sentiment\n",
              "0  @MeNyrbie @Phil_Gahan @Chrisitv https://t.co/i...             Neutral\n",
              "1  advice Talk to your neighbours family to excha...            Positive\n",
              "2  Coronavirus Australia: Woolworths to give elde...            Positive\n",
              "3  My food stock is not the only one which is emp...            Positive\n",
              "4  Me, ready to go at supermarket during the #COV...  Extremely Negative"
            ]
          },
          "metadata": {
            "tags": []
          },
          "execution_count": 7
        }
      ]
    },
    {
      "cell_type": "code",
      "metadata": {
        "colab": {
          "base_uri": "https://localhost:8080/"
        },
        "id": "EiYJJ6eRnHyQ",
        "outputId": "24858dc0-ac9f-49aa-f47e-4f393a4f78bd"
      },
      "source": [
        "df.info()"
      ],
      "execution_count": null,
      "outputs": [
        {
          "output_type": "stream",
          "text": [
            "<class 'pandas.core.frame.DataFrame'>\n",
            "RangeIndex: 44955 entries, 0 to 44954\n",
            "Data columns (total 2 columns):\n",
            " #   Column         Non-Null Count  Dtype \n",
            "---  ------         --------------  ----- \n",
            " 0   OriginalTweet  44955 non-null  object\n",
            " 1   Sentiment      44955 non-null  object\n",
            "dtypes: object(2)\n",
            "memory usage: 702.5+ KB\n"
          ],
          "name": "stdout"
        }
      ]
    },
    {
      "cell_type": "markdown",
      "metadata": {
        "id": "AJtv0hCHgO6g"
      },
      "source": [
        "Untuk membuat model yang lebih simpel, saya melakukan proses penyederhanaan dengan mengurangi jumlah klasifikasi pada label dari 5 menjadi 3. \n",
        "\n",
        "Ada kemungkinan label `'Extremely positive'` atau `'Extremely Negative'` akan salah terprediksi sebagai `'Positive'` dan `'Negative'` atau sebaliknya. Selain itu, kata-kata dalam Tweet sangat mirip satu sama lain. Dengan demikian, saya melakukan pengurangan klasifikasi"
      ]
    },
    {
      "cell_type": "code",
      "metadata": {
        "id": "2gHRBg0gi8Zz"
      },
      "source": [
        "df.Sentiment=df.Sentiment.replace({'Extremely Positive':'Positive','Extremely Negative':'Negative'})"
      ],
      "execution_count": null,
      "outputs": []
    },
    {
      "cell_type": "markdown",
      "metadata": {
        "id": "-2Q6FaWlsTYO"
      },
      "source": [
        "# **Data Preprocessing**"
      ]
    },
    {
      "cell_type": "markdown",
      "metadata": {
        "id": "8ocRx-b1sd-Y"
      },
      "source": [
        "## **Menghapus @user**"
      ]
    },
    {
      "cell_type": "code",
      "metadata": {
        "id": "W4j0KE47sXSp"
      },
      "source": [
        "# write function for removing @user\n",
        "def remove_pattern(input_txt, pattern):\n",
        "    r = re.findall(pattern, input_txt)\n",
        "    for i in r:\n",
        "        input_txt = re.sub(i,'',input_txt)\n",
        "    return input_txt"
      ],
      "execution_count": null,
      "outputs": []
    },
    {
      "cell_type": "code",
      "metadata": {
        "id": "b0YJoFnYslOs"
      },
      "source": [
        "import numpy as np\n",
        "import re\n",
        "\n",
        "# create new column with removed @user\n",
        "df['Tweet'] = np.vectorize(remove_pattern)(df['OriginalTweet'], '@[\\w]*')\n",
        "df = df.drop(columns=['OriginalTweet'])"
      ],
      "execution_count": null,
      "outputs": []
    },
    {
      "cell_type": "markdown",
      "metadata": {
        "id": "r1QMmDuFtskc"
      },
      "source": [
        "## **Menghapus HTTP dan URLS Dari Tweet**"
      ]
    },
    {
      "cell_type": "code",
      "metadata": {
        "id": "HOyP-7IDtvnx"
      },
      "source": [
        "import re\n",
        "\n",
        "df['Tweet'] = df['Tweet'].apply(lambda x: re.split('https:\\/\\/.*', str(x))[0])"
      ],
      "execution_count": null,
      "outputs": []
    },
    {
      "cell_type": "markdown",
      "metadata": {
        "id": "_aHPUFOSuSqW"
      },
      "source": [
        "## **Menghapus Punctuations, Numbers, dan Special Characters**"
      ]
    },
    {
      "cell_type": "code",
      "metadata": {
        "id": "3FDGaRMNuRlR"
      },
      "source": [
        "# remove special characters, numbers, punctuations\n",
        "df['Tweet'] = df['Tweet'].str.replace('[^a-zA-Z#]+',' ')"
      ],
      "execution_count": null,
      "outputs": []
    },
    {
      "cell_type": "markdown",
      "metadata": {
        "id": "TSWiHgKuvoff"
      },
      "source": [
        "## **Menghapus Short Words**"
      ]
    },
    {
      "cell_type": "code",
      "metadata": {
        "id": "aL4F2gJHvpwL"
      },
      "source": [
        "# remove short words\n",
        "df['Tweet'] = df['Tweet'].apply(lambda x: ' '.join([w for w in x.split() if len(w) > 2]))"
      ],
      "execution_count": null,
      "outputs": []
    },
    {
      "cell_type": "code",
      "metadata": {
        "colab": {
          "base_uri": "https://localhost:8080/",
          "height": 359
        },
        "id": "MuOEwwl1vv77",
        "outputId": "20677664-d547-4749-b529-c6fb757f9b20"
      },
      "source": [
        "df.head(10)"
      ],
      "execution_count": null,
      "outputs": [
        {
          "output_type": "execute_result",
          "data": {
            "text/html": [
              "<div>\n",
              "<style scoped>\n",
              "    .dataframe tbody tr th:only-of-type {\n",
              "        vertical-align: middle;\n",
              "    }\n",
              "\n",
              "    .dataframe tbody tr th {\n",
              "        vertical-align: top;\n",
              "    }\n",
              "\n",
              "    .dataframe thead th {\n",
              "        text-align: right;\n",
              "    }\n",
              "</style>\n",
              "<table border=\"1\" class=\"dataframe\">\n",
              "  <thead>\n",
              "    <tr style=\"text-align: right;\">\n",
              "      <th></th>\n",
              "      <th>Sentiment</th>\n",
              "      <th>Tweet</th>\n",
              "    </tr>\n",
              "  </thead>\n",
              "  <tbody>\n",
              "    <tr>\n",
              "      <th>0</th>\n",
              "      <td>Neutral</td>\n",
              "      <td></td>\n",
              "    </tr>\n",
              "    <tr>\n",
              "      <th>1</th>\n",
              "      <td>Positive</td>\n",
              "      <td>advice Talk your neighbours family exchange ph...</td>\n",
              "    </tr>\n",
              "    <tr>\n",
              "      <th>2</th>\n",
              "      <td>Positive</td>\n",
              "      <td>Coronavirus Australia Woolworths give elderly ...</td>\n",
              "    </tr>\n",
              "    <tr>\n",
              "      <th>3</th>\n",
              "      <td>Positive</td>\n",
              "      <td>food stock not the only one which empty PLEASE...</td>\n",
              "    </tr>\n",
              "    <tr>\n",
              "      <th>4</th>\n",
              "      <td>Negative</td>\n",
              "      <td>ready supermarket during the #COVID outbreak N...</td>\n",
              "    </tr>\n",
              "    <tr>\n",
              "      <th>5</th>\n",
              "      <td>Positive</td>\n",
              "      <td>news the region first confirmed COVID case cam...</td>\n",
              "    </tr>\n",
              "    <tr>\n",
              "      <th>6</th>\n",
              "      <td>Positive</td>\n",
              "      <td>Cashier grocery store was sharing his insights...</td>\n",
              "    </tr>\n",
              "    <tr>\n",
              "      <th>7</th>\n",
              "      <td>Neutral</td>\n",
              "      <td>Was the supermarket today Didn buy toilet pape...</td>\n",
              "    </tr>\n",
              "    <tr>\n",
              "      <th>8</th>\n",
              "      <td>Positive</td>\n",
              "      <td>Due COVID our retail store and classroom Atlan...</td>\n",
              "    </tr>\n",
              "    <tr>\n",
              "      <th>9</th>\n",
              "      <td>Negative</td>\n",
              "      <td>For corona prevention should stop buy things w...</td>\n",
              "    </tr>\n",
              "  </tbody>\n",
              "</table>\n",
              "</div>"
            ],
            "text/plain": [
              "  Sentiment                                              Tweet\n",
              "0   Neutral                                                   \n",
              "1  Positive  advice Talk your neighbours family exchange ph...\n",
              "2  Positive  Coronavirus Australia Woolworths give elderly ...\n",
              "3  Positive  food stock not the only one which empty PLEASE...\n",
              "4  Negative  ready supermarket during the #COVID outbreak N...\n",
              "5  Positive  news the region first confirmed COVID case cam...\n",
              "6  Positive  Cashier grocery store was sharing his insights...\n",
              "7   Neutral  Was the supermarket today Didn buy toilet pape...\n",
              "8  Positive  Due COVID our retail store and classroom Atlan...\n",
              "9  Negative  For corona prevention should stop buy things w..."
            ]
          },
          "metadata": {
            "tags": []
          },
          "execution_count": 15
        }
      ]
    },
    {
      "cell_type": "markdown",
      "metadata": {
        "id": "x2TR-1isx-Xh"
      },
      "source": [
        "## **One Hot Encoding**"
      ]
    },
    {
      "cell_type": "code",
      "metadata": {
        "colab": {
          "base_uri": "https://localhost:8080/",
          "height": 419
        },
        "id": "A_m1aBYPzAA1",
        "outputId": "f1ae2989-0469-4a50-9050-c974578719a6"
      },
      "source": [
        "category = pd.get_dummies(df.Sentiment)\n",
        "\n",
        "df = pd.concat([df, category], axis=1)\n",
        "df = df.drop(columns='Sentiment')\n",
        "df"
      ],
      "execution_count": null,
      "outputs": [
        {
          "output_type": "execute_result",
          "data": {
            "text/html": [
              "<div>\n",
              "<style scoped>\n",
              "    .dataframe tbody tr th:only-of-type {\n",
              "        vertical-align: middle;\n",
              "    }\n",
              "\n",
              "    .dataframe tbody tr th {\n",
              "        vertical-align: top;\n",
              "    }\n",
              "\n",
              "    .dataframe thead th {\n",
              "        text-align: right;\n",
              "    }\n",
              "</style>\n",
              "<table border=\"1\" class=\"dataframe\">\n",
              "  <thead>\n",
              "    <tr style=\"text-align: right;\">\n",
              "      <th></th>\n",
              "      <th>Tweet</th>\n",
              "      <th>Negative</th>\n",
              "      <th>Neutral</th>\n",
              "      <th>Positive</th>\n",
              "    </tr>\n",
              "  </thead>\n",
              "  <tbody>\n",
              "    <tr>\n",
              "      <th>0</th>\n",
              "      <td></td>\n",
              "      <td>0</td>\n",
              "      <td>1</td>\n",
              "      <td>0</td>\n",
              "    </tr>\n",
              "    <tr>\n",
              "      <th>1</th>\n",
              "      <td>advice Talk your neighbours family exchange ph...</td>\n",
              "      <td>0</td>\n",
              "      <td>0</td>\n",
              "      <td>1</td>\n",
              "    </tr>\n",
              "    <tr>\n",
              "      <th>2</th>\n",
              "      <td>Coronavirus Australia Woolworths give elderly ...</td>\n",
              "      <td>0</td>\n",
              "      <td>0</td>\n",
              "      <td>1</td>\n",
              "    </tr>\n",
              "    <tr>\n",
              "      <th>3</th>\n",
              "      <td>food stock not the only one which empty PLEASE...</td>\n",
              "      <td>0</td>\n",
              "      <td>0</td>\n",
              "      <td>1</td>\n",
              "    </tr>\n",
              "    <tr>\n",
              "      <th>4</th>\n",
              "      <td>ready supermarket during the #COVID outbreak N...</td>\n",
              "      <td>1</td>\n",
              "      <td>0</td>\n",
              "      <td>0</td>\n",
              "    </tr>\n",
              "    <tr>\n",
              "      <th>...</th>\n",
              "      <td>...</td>\n",
              "      <td>...</td>\n",
              "      <td>...</td>\n",
              "      <td>...</td>\n",
              "    </tr>\n",
              "    <tr>\n",
              "      <th>44950</th>\n",
              "      <td>Meanwhile Supermarket Israel People dance and ...</td>\n",
              "      <td>0</td>\n",
              "      <td>0</td>\n",
              "      <td>1</td>\n",
              "    </tr>\n",
              "    <tr>\n",
              "      <th>44951</th>\n",
              "      <td>Did you panic buy lot non perishable items ECH...</td>\n",
              "      <td>1</td>\n",
              "      <td>0</td>\n",
              "      <td>0</td>\n",
              "    </tr>\n",
              "    <tr>\n",
              "      <th>44952</th>\n",
              "      <td>Asst Prof Economics was talking about her rece...</td>\n",
              "      <td>0</td>\n",
              "      <td>1</td>\n",
              "      <td>0</td>\n",
              "    </tr>\n",
              "    <tr>\n",
              "      <th>44953</th>\n",
              "      <td>Gov need somethings instead biar rakyat assume...</td>\n",
              "      <td>1</td>\n",
              "      <td>0</td>\n",
              "      <td>0</td>\n",
              "    </tr>\n",
              "    <tr>\n",
              "      <th>44954</th>\n",
              "      <td>and members are committed the safety our emplo...</td>\n",
              "      <td>0</td>\n",
              "      <td>0</td>\n",
              "      <td>1</td>\n",
              "    </tr>\n",
              "  </tbody>\n",
              "</table>\n",
              "<p>44955 rows × 4 columns</p>\n",
              "</div>"
            ],
            "text/plain": [
              "                                                   Tweet  ...  Positive\n",
              "0                                                         ...         0\n",
              "1      advice Talk your neighbours family exchange ph...  ...         1\n",
              "2      Coronavirus Australia Woolworths give elderly ...  ...         1\n",
              "3      food stock not the only one which empty PLEASE...  ...         1\n",
              "4      ready supermarket during the #COVID outbreak N...  ...         0\n",
              "...                                                  ...  ...       ...\n",
              "44950  Meanwhile Supermarket Israel People dance and ...  ...         1\n",
              "44951  Did you panic buy lot non perishable items ECH...  ...         0\n",
              "44952  Asst Prof Economics was talking about her rece...  ...         0\n",
              "44953  Gov need somethings instead biar rakyat assume...  ...         0\n",
              "44954  and members are committed the safety our emplo...  ...         1\n",
              "\n",
              "[44955 rows x 4 columns]"
            ]
          },
          "metadata": {
            "tags": []
          },
          "execution_count": 16
        }
      ]
    },
    {
      "cell_type": "markdown",
      "metadata": {
        "id": "93mu0CGkz85L"
      },
      "source": [
        "## **Mengubah ke Numpy Array dan Memisahkan Kolom Mana yang Label Mana Atribut**"
      ]
    },
    {
      "cell_type": "code",
      "metadata": {
        "id": "l017RB4ez97q"
      },
      "source": [
        "tweet = df['Tweet'].values\n",
        "label = df[['Negative', 'Neutral', 'Positive']].values"
      ],
      "execution_count": null,
      "outputs": []
    },
    {
      "cell_type": "markdown",
      "metadata": {
        "id": "PuixumkGpcXU"
      },
      "source": [
        "## **Memisahkan Dataset ke Train Set dan Test Set**"
      ]
    },
    {
      "cell_type": "code",
      "metadata": {
        "id": "nx_SBOVVpdag"
      },
      "source": [
        "from sklearn.model_selection import train_test_split\n",
        "\n",
        "tweet_train, tweet_test, label_train, label_test = train_test_split(tweet, label, test_size=0.2)"
      ],
      "execution_count": null,
      "outputs": []
    },
    {
      "cell_type": "markdown",
      "metadata": {
        "id": "vjiNNsAm1nFG"
      },
      "source": [
        "## **Tokenisasi**"
      ]
    },
    {
      "cell_type": "code",
      "metadata": {
        "id": "IClUyyfF1lk0"
      },
      "source": [
        "from tensorflow.keras.preprocessing.text import Tokenizer\n",
        "from tensorflow.keras.preprocessing.sequence import pad_sequences\n",
        " \n",
        "tokenizer = Tokenizer(num_words=5000, oov_token='x')\n",
        "tokenizer.fit_on_texts(tweet_train) \n",
        "tokenizer.fit_on_texts(tweet_test)"
      ],
      "execution_count": null,
      "outputs": []
    },
    {
      "cell_type": "code",
      "metadata": {
        "id": "h5NfVVE12Cte"
      },
      "source": [
        "sequence_train = tokenizer.texts_to_sequences(tweet_train)\n",
        "sequence_test = tokenizer.texts_to_sequences(tweet_test)"
      ],
      "execution_count": null,
      "outputs": []
    },
    {
      "cell_type": "markdown",
      "metadata": {
        "id": "PgvrqaeM2UZg"
      },
      "source": [
        "## **Padding**"
      ]
    },
    {
      "cell_type": "code",
      "metadata": {
        "id": "5eG0FsxU2Wsy"
      },
      "source": [
        "padded_train = pad_sequences(sequence_train) \n",
        "padded_test = pad_sequences(sequence_test)"
      ],
      "execution_count": null,
      "outputs": []
    },
    {
      "cell_type": "markdown",
      "metadata": {
        "id": "dE1zEKMf2kVS"
      },
      "source": [
        "# **Modelling**"
      ]
    },
    {
      "cell_type": "markdown",
      "metadata": {
        "id": "gPlnHGVX2ofN"
      },
      "source": [
        "## **Membuat Model Sequential**"
      ]
    },
    {
      "cell_type": "code",
      "metadata": {
        "id": "e2_7tdiv2jaa"
      },
      "source": [
        "import tensorflow as tf\n",
        "from tensorflow.keras import regularizers\n",
        "\n",
        "v = len(tokenizer.word_index)\n",
        "\n",
        "model = tf.keras.Sequential([\n",
        "    tf.keras.layers.Embedding(input_dim=v+1, output_dim=3),\n",
        "    tf.keras.layers.LSTM(64),\n",
        "    tf.keras.layers.Dropout(0.5),\n",
        "    tf.keras.layers.Dense(128, kernel_regularizer=regularizers.l2(0.001), activation='relu'),\n",
        "    tf.keras.layers.Dropout(0.5),\n",
        "    tf.keras.layers.Dense(128, kernel_regularizer=regularizers.l2(0.001), activation='relu'),\n",
        "    tf.keras.layers.Dropout(0.5),\n",
        "    tf.keras.layers.Dense(3, activation='softmax')\n",
        "])\n",
        "model.compile(loss='categorical_crossentropy',optimizer='adam',metrics=['accuracy'])"
      ],
      "execution_count": null,
      "outputs": []
    },
    {
      "cell_type": "code",
      "metadata": {
        "colab": {
          "base_uri": "https://localhost:8080/"
        },
        "id": "g1uMdOOWGe2a",
        "outputId": "df4484c6-0afe-4f6d-d765-f3d84a87abcb"
      },
      "source": [
        "model.summary()"
      ],
      "execution_count": null,
      "outputs": [
        {
          "output_type": "stream",
          "text": [
            "Model: \"sequential_16\"\n",
            "_________________________________________________________________\n",
            "Layer (type)                 Output Shape              Param #   \n",
            "=================================================================\n",
            "embedding_17 (Embedding)     (None, None, 3)           128247    \n",
            "_________________________________________________________________\n",
            "lstm_17 (LSTM)               (None, 64)                17408     \n",
            "_________________________________________________________________\n",
            "dropout_37 (Dropout)         (None, 64)                0         \n",
            "_________________________________________________________________\n",
            "dense_41 (Dense)             (None, 128)               8320      \n",
            "_________________________________________________________________\n",
            "dropout_38 (Dropout)         (None, 128)               0         \n",
            "_________________________________________________________________\n",
            "dense_42 (Dense)             (None, 128)               16512     \n",
            "_________________________________________________________________\n",
            "dropout_39 (Dropout)         (None, 128)               0         \n",
            "_________________________________________________________________\n",
            "dense_43 (Dense)             (None, 3)                 387       \n",
            "=================================================================\n",
            "Total params: 170,874\n",
            "Trainable params: 170,874\n",
            "Non-trainable params: 0\n",
            "_________________________________________________________________\n"
          ],
          "name": "stdout"
        }
      ]
    },
    {
      "cell_type": "markdown",
      "metadata": {
        "id": "-KUIV6Ew_cy6"
      },
      "source": [
        "## **Membuat Fungsi Callback**"
      ]
    },
    {
      "cell_type": "code",
      "metadata": {
        "id": "sx42Vjyc1YNF"
      },
      "source": [
        "class myCallback(tf.keras.callbacks.Callback):\n",
        "  def on_epoch_end(self, epoch, logs={}):\n",
        "    if(logs.get('accuracy')>0.95):\n",
        "      print(\"\\nAkurasi telah mencapai >95%!\")\n",
        "      self.model.stop_training = True\n",
        "callbacks = myCallback()"
      ],
      "execution_count": null,
      "outputs": []
    },
    {
      "cell_type": "markdown",
      "metadata": {
        "id": "RnRgsFBy_hQZ"
      },
      "source": [
        "## **Pelatihan Model**"
      ]
    },
    {
      "cell_type": "code",
      "metadata": {
        "colab": {
          "base_uri": "https://localhost:8080/"
        },
        "id": "iEpFx_bd2zIG",
        "outputId": "49a85a80-63c4-44b4-ac50-36af76a84217"
      },
      "source": [
        "num_epochs = 30\n",
        "history = model.fit(padded_train, label_train, epochs=num_epochs, callbacks=[callbacks], \n",
        "                    validation_data=(padded_test, label_test), verbose=2)"
      ],
      "execution_count": null,
      "outputs": [
        {
          "output_type": "stream",
          "text": [
            "Epoch 1/30\n",
            "1124/1124 - 36s - loss: 0.9434 - accuracy: 0.5413 - val_loss: 0.8110 - val_accuracy: 0.6452\n",
            "Epoch 2/30\n",
            "1124/1124 - 33s - loss: 0.7572 - accuracy: 0.6748 - val_loss: 0.6617 - val_accuracy: 0.7416\n",
            "Epoch 3/30\n",
            "1124/1124 - 33s - loss: 0.5578 - accuracy: 0.8084 - val_loss: 0.5124 - val_accuracy: 0.8232\n",
            "Epoch 4/30\n",
            "1124/1124 - 33s - loss: 0.4664 - accuracy: 0.8592 - val_loss: 0.4913 - val_accuracy: 0.8381\n",
            "Epoch 5/30\n",
            "1124/1124 - 33s - loss: 0.4307 - accuracy: 0.8733 - val_loss: 0.4949 - val_accuracy: 0.8393\n",
            "Epoch 6/30\n",
            "1124/1124 - 33s - loss: 0.4108 - accuracy: 0.8809 - val_loss: 0.4920 - val_accuracy: 0.8346\n",
            "Epoch 7/30\n",
            "1124/1124 - 33s - loss: 0.3953 - accuracy: 0.8866 - val_loss: 0.5006 - val_accuracy: 0.8453\n",
            "Epoch 8/30\n",
            "1124/1124 - 33s - loss: 0.3864 - accuracy: 0.8894 - val_loss: 0.4904 - val_accuracy: 0.8436\n",
            "Epoch 9/30\n",
            "1124/1124 - 34s - loss: 0.3747 - accuracy: 0.8931 - val_loss: 0.4982 - val_accuracy: 0.8415\n",
            "Epoch 10/30\n",
            "1124/1124 - 33s - loss: 0.3649 - accuracy: 0.8975 - val_loss: 0.5294 - val_accuracy: 0.8293\n",
            "Epoch 11/30\n",
            "1124/1124 - 33s - loss: 0.3601 - accuracy: 0.8991 - val_loss: 0.5373 - val_accuracy: 0.8243\n",
            "Epoch 12/30\n",
            "1124/1124 - 33s - loss: 0.3507 - accuracy: 0.9020 - val_loss: 0.5133 - val_accuracy: 0.8369\n",
            "Epoch 13/30\n",
            "1124/1124 - 32s - loss: 0.3395 - accuracy: 0.9065 - val_loss: 0.5198 - val_accuracy: 0.8321\n",
            "Epoch 14/30\n",
            "1124/1124 - 34s - loss: 0.3331 - accuracy: 0.9079 - val_loss: 0.5375 - val_accuracy: 0.8357\n",
            "Epoch 15/30\n",
            "1124/1124 - 34s - loss: 0.3266 - accuracy: 0.9096 - val_loss: 0.5681 - val_accuracy: 0.8281\n",
            "Epoch 16/30\n",
            "1124/1124 - 33s - loss: 0.3159 - accuracy: 0.9143 - val_loss: 0.5510 - val_accuracy: 0.8317\n",
            "Epoch 17/30\n",
            "1124/1124 - 33s - loss: 0.3063 - accuracy: 0.9160 - val_loss: 0.5803 - val_accuracy: 0.8305\n",
            "Epoch 18/30\n",
            "1124/1124 - 33s - loss: 0.2980 - accuracy: 0.9193 - val_loss: 0.5616 - val_accuracy: 0.8319\n",
            "Epoch 19/30\n",
            "1124/1124 - 33s - loss: 0.2954 - accuracy: 0.9189 - val_loss: 0.5808 - val_accuracy: 0.8316\n",
            "Epoch 20/30\n",
            "1124/1124 - 33s - loss: 0.2866 - accuracy: 0.9219 - val_loss: 0.5886 - val_accuracy: 0.8295\n",
            "Epoch 21/30\n",
            "1124/1124 - 33s - loss: 0.2847 - accuracy: 0.9223 - val_loss: 0.6360 - val_accuracy: 0.8225\n",
            "Epoch 22/30\n",
            "1124/1124 - 33s - loss: 0.2760 - accuracy: 0.9246 - val_loss: 0.5982 - val_accuracy: 0.8286\n",
            "Epoch 23/30\n",
            "1124/1124 - 33s - loss: 0.2715 - accuracy: 0.9255 - val_loss: 0.5846 - val_accuracy: 0.8282\n",
            "Epoch 24/30\n",
            "1124/1124 - 33s - loss: 0.2650 - accuracy: 0.9292 - val_loss: 0.5969 - val_accuracy: 0.8288\n",
            "Epoch 25/30\n",
            "1124/1124 - 33s - loss: 0.2610 - accuracy: 0.9273 - val_loss: 0.6124 - val_accuracy: 0.8196\n",
            "Epoch 26/30\n",
            "1124/1124 - 33s - loss: 0.2526 - accuracy: 0.9312 - val_loss: 0.6514 - val_accuracy: 0.8270\n",
            "Epoch 27/30\n",
            "1124/1124 - 33s - loss: 0.2537 - accuracy: 0.9302 - val_loss: 0.6066 - val_accuracy: 0.8266\n",
            "Epoch 28/30\n",
            "1124/1124 - 33s - loss: 0.2431 - accuracy: 0.9333 - val_loss: 0.6689 - val_accuracy: 0.8277\n",
            "Epoch 29/30\n",
            "1124/1124 - 33s - loss: 0.2463 - accuracy: 0.9322 - val_loss: 0.7133 - val_accuracy: 0.8279\n",
            "Epoch 30/30\n",
            "1124/1124 - 34s - loss: 0.2305 - accuracy: 0.9371 - val_loss: 0.6915 - val_accuracy: 0.8255\n"
          ],
          "name": "stdout"
        }
      ]
    },
    {
      "cell_type": "code",
      "metadata": {
        "colab": {
          "base_uri": "https://localhost:8080/",
          "height": 408
        },
        "id": "92fiyMEYCiiQ",
        "outputId": "d870793d-4e63-4c56-e2d1-37e94eedbbc2"
      },
      "source": [
        "import matplotlib.pyplot as plt\n",
        "\n",
        "# Plot the training curves\n",
        "plt.style.use(\"ggplot\")\n",
        "plt.figure(figsize=(12,6))\n",
        "epochs = range(1,31)\n",
        "\n",
        "plt.subplot(1,2,1)\n",
        "plt.plot(epochs, history.history[\"accuracy\"], \"go-\")\n",
        "plt.plot(epochs, history.history[\"val_accuracy\"], \"ro-\")\n",
        "plt.title(\"Model Accuracy\")\n",
        "plt.xlabel(\"Epochs\")\n",
        "plt.ylabel(\"Accuracy\")\n",
        "plt.legend([\"Train\", \"Val\"], loc=\"upper left\")\n",
        "\n",
        "plt.subplot(1,2,2)\n",
        "plt.plot(epochs, history.history[\"loss\"], \"go-\")\n",
        "plt.plot(epochs, history.history[\"val_loss\"], \"ro-\")\n",
        "plt.title(\"Model Loss\")\n",
        "plt.xlabel(\"Epochs\")\n",
        "plt.ylabel(\"Loss\")\n",
        "plt.legend([\"Train\", \"Val\"], loc=\"upper left\")\n",
        "\n",
        "plt.show()"
      ],
      "execution_count": null,
      "outputs": [
        {
          "output_type": "display_data",
          "data": {
            "image/png": "[encoded data removed]",
            "text/plain": [
              "<Figure size 864x432 with 2 Axes>"
            ]
          },
          "metadata": {
            "tags": []
          }
        }
      ]
    },
    {
      "cell_type": "markdown",
      "metadata": {
        "id": "pu8qVv8RDxx2"
      },
      "source": [
        "# **References:**\n",
        "- https://www.kdnuggets.com/2019/04/text-preprocessing-nlp-machine-learning.html\n",
        "- https://towardsdatascience.com/handling-overfitting-in-deep-learning-models-c760ee047c6e"
      ]
    }
  ]
}