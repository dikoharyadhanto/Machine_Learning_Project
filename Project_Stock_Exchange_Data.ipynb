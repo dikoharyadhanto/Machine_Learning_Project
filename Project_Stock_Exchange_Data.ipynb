{
  "nbformat": 4,
  "nbformat_minor": 0,
  "metadata": {
    "colab": {
      "name": "Project - Stock Exchange Data.ipynb",
      "provenance": [],
      "collapsed_sections": [],
      "mount_file_id": "1jVd0PsP-_uRf3R4d4l6rEOPpRwa8QJ9f",
      "authorship_tag": "ABX9TyMGk/hTDfFXnT+1htT+NHkF",
      "include_colab_link": true
    },
    "kernelspec": {
      "name": "python3",
      "display_name": "Python 3"
    },
    "language_info": {
      "name": "python"
    }
  },
  "cells": [
    {
      "cell_type": "markdown",
      "metadata": {
        "id": "view-in-github",
        "colab_type": "text"
      },
      "source": [
        "<a href=\"https://colab.research.google.com/github/dikoharyadhanto/Machine_Learning_Project/blob/main/Project_Stock_Exchange_Data.ipynb\" target=\"_parent\"><img src=\"https://colab.research.google.com/assets/colab-badge.svg\" alt=\"Open In Colab\"/></a>"
      ]
    },
    {
      "cell_type": "code",
      "metadata": {
        "id": "qj8Qbs3HQzWB"
      },
      "source": [
        "#import os\n",
        "#os.environ['KAGGLE_CONFIG_DIR'] = '/content/drive/MyDrive/Kaggle'"
      ],
      "execution_count": 78,
      "outputs": []
    },
    {
      "cell_type": "code",
      "metadata": {
        "id": "iMu5nZGsQ0FI"
      },
      "source": [
        "#!kaggle datasets download -d mattiuzc/stock-exchange-data"
      ],
      "execution_count": 79,
      "outputs": []
    },
    {
      "cell_type": "code",
      "metadata": {
        "id": "yc_SDXbxRco9"
      },
      "source": [
        "#!unzip -q stock-exchange-data.zip -d ."
      ],
      "execution_count": 80,
      "outputs": []
    },
    {
      "cell_type": "markdown",
      "metadata": {
        "id": "lNWFYpgKFIfV"
      },
      "source": [
        "# **Data Preprocessing**"
      ]
    },
    {
      "cell_type": "code",
      "metadata": {
        "id": "5cTrObp991wd"
      },
      "source": [
        "import numpy as np\n",
        "import pandas as pd\n",
        "from keras.layers import Dense, LSTM, Dropout\n",
        "import matplotlib.pyplot as plt\n",
        "import tensorflow as tf\n",
        "from sklearn.model_selection import train_test_split\n",
        "from sklearn.preprocessing import StandardScaler\n",
        "import seaborn as sns"
      ],
      "execution_count": 81,
      "outputs": []
    },
    {
      "cell_type": "code",
      "metadata": {
        "colab": {
          "base_uri": "https://localhost:8080/",
          "height": 483
        },
        "id": "QhKXJy9D-Snd",
        "outputId": "57725665-01a0-43ca-d134-d1245420f857"
      },
      "source": [
        "#Read IndexInfo\n",
        "dataset_info = pd.read_csv('indexInfo.csv')\n",
        "dataset_info.head(14)"
      ],
      "execution_count": 82,
      "outputs": [
        {
          "output_type": "execute_result",
          "data": {
            "text/html": [
              "<div>\n",
              "<style scoped>\n",
              "    .dataframe tbody tr th:only-of-type {\n",
              "        vertical-align: middle;\n",
              "    }\n",
              "\n",
              "    .dataframe tbody tr th {\n",
              "        vertical-align: top;\n",
              "    }\n",
              "\n",
              "    .dataframe thead th {\n",
              "        text-align: right;\n",
              "    }\n",
              "</style>\n",
              "<table border=\"1\" class=\"dataframe\">\n",
              "  <thead>\n",
              "    <tr style=\"text-align: right;\">\n",
              "      <th></th>\n",
              "      <th>Region</th>\n",
              "      <th>Exchange</th>\n",
              "      <th>Index</th>\n",
              "      <th>Currency</th>\n",
              "    </tr>\n",
              "  </thead>\n",
              "  <tbody>\n",
              "    <tr>\n",
              "      <th>0</th>\n",
              "      <td>United States</td>\n",
              "      <td>New York Stock Exchange</td>\n",
              "      <td>NYA</td>\n",
              "      <td>USD</td>\n",
              "    </tr>\n",
              "    <tr>\n",
              "      <th>1</th>\n",
              "      <td>United States</td>\n",
              "      <td>NASDAQ</td>\n",
              "      <td>IXIC</td>\n",
              "      <td>USD</td>\n",
              "    </tr>\n",
              "    <tr>\n",
              "      <th>2</th>\n",
              "      <td>Hong Kong</td>\n",
              "      <td>Hong Kong Stock Exchange</td>\n",
              "      <td>HSI</td>\n",
              "      <td>HKD</td>\n",
              "    </tr>\n",
              "    <tr>\n",
              "      <th>3</th>\n",
              "      <td>China</td>\n",
              "      <td>Shanghai Stock Exchange</td>\n",
              "      <td>000001.SS</td>\n",
              "      <td>CNY</td>\n",
              "    </tr>\n",
              "    <tr>\n",
              "      <th>4</th>\n",
              "      <td>Japan</td>\n",
              "      <td>Tokyo Stock Exchange</td>\n",
              "      <td>N225</td>\n",
              "      <td>JPY</td>\n",
              "    </tr>\n",
              "    <tr>\n",
              "      <th>5</th>\n",
              "      <td>Europe</td>\n",
              "      <td>Euronext</td>\n",
              "      <td>N100</td>\n",
              "      <td>EUR</td>\n",
              "    </tr>\n",
              "    <tr>\n",
              "      <th>6</th>\n",
              "      <td>China</td>\n",
              "      <td>Shenzhen Stock Exchange</td>\n",
              "      <td>399001.SZ</td>\n",
              "      <td>CNY</td>\n",
              "    </tr>\n",
              "    <tr>\n",
              "      <th>7</th>\n",
              "      <td>Canada</td>\n",
              "      <td>Toronto Stock Exchange</td>\n",
              "      <td>GSPTSE</td>\n",
              "      <td>CAD</td>\n",
              "    </tr>\n",
              "    <tr>\n",
              "      <th>8</th>\n",
              "      <td>India</td>\n",
              "      <td>National Stock Exchange of India</td>\n",
              "      <td>NSEI</td>\n",
              "      <td>INR</td>\n",
              "    </tr>\n",
              "    <tr>\n",
              "      <th>9</th>\n",
              "      <td>Germany</td>\n",
              "      <td>Frankfurt Stock Exchange</td>\n",
              "      <td>GDAXI</td>\n",
              "      <td>EUR</td>\n",
              "    </tr>\n",
              "    <tr>\n",
              "      <th>10</th>\n",
              "      <td>Korea</td>\n",
              "      <td>Korea Exchange</td>\n",
              "      <td>KS11</td>\n",
              "      <td>KRW</td>\n",
              "    </tr>\n",
              "    <tr>\n",
              "      <th>11</th>\n",
              "      <td>Switzerland</td>\n",
              "      <td>SIX Swiss Exchange</td>\n",
              "      <td>SSMI</td>\n",
              "      <td>CHF</td>\n",
              "    </tr>\n",
              "    <tr>\n",
              "      <th>12</th>\n",
              "      <td>Taiwan</td>\n",
              "      <td>Taiwan Stock Exchange</td>\n",
              "      <td>TWII</td>\n",
              "      <td>TWD</td>\n",
              "    </tr>\n",
              "    <tr>\n",
              "      <th>13</th>\n",
              "      <td>South Africa</td>\n",
              "      <td>Johannesburg Stock Exchange</td>\n",
              "      <td>J203.JO</td>\n",
              "      <td>ZAR</td>\n",
              "    </tr>\n",
              "  </tbody>\n",
              "</table>\n",
              "</div>"
            ],
            "text/plain": [
              "           Region                          Exchange      Index Currency\n",
              "0   United States           New York Stock Exchange        NYA      USD\n",
              "1   United States                            NASDAQ       IXIC      USD\n",
              "2       Hong Kong          Hong Kong Stock Exchange        HSI      HKD\n",
              "3           China           Shanghai Stock Exchange  000001.SS      CNY\n",
              "4           Japan              Tokyo Stock Exchange       N225      JPY\n",
              "5          Europe                          Euronext       N100      EUR\n",
              "6           China           Shenzhen Stock Exchange  399001.SZ      CNY\n",
              "7          Canada            Toronto Stock Exchange     GSPTSE      CAD\n",
              "8           India  National Stock Exchange of India       NSEI      INR\n",
              "9         Germany          Frankfurt Stock Exchange      GDAXI      EUR\n",
              "10          Korea                    Korea Exchange       KS11      KRW\n",
              "11    Switzerland                SIX Swiss Exchange       SSMI      CHF\n",
              "12         Taiwan             Taiwan Stock Exchange       TWII      TWD\n",
              "13   South Africa       Johannesburg Stock Exchange    J203.JO      ZAR"
            ]
          },
          "metadata": {
            "tags": []
          },
          "execution_count": 82
        }
      ]
    },
    {
      "cell_type": "code",
      "metadata": {
        "colab": {
          "base_uri": "https://localhost:8080/",
          "height": 204
        },
        "id": "GMRD92zP93rd",
        "outputId": "439593a6-8420-4a17-b4c1-13305e09b040"
      },
      "source": [
        "#Read IndexProcessed\n",
        "df = pd.read_csv('indexProcessed.csv')\n",
        "df.head()"
      ],
      "execution_count": 83,
      "outputs": [
        {
          "output_type": "execute_result",
          "data": {
            "text/html": [
              "<div>\n",
              "<style scoped>\n",
              "    .dataframe tbody tr th:only-of-type {\n",
              "        vertical-align: middle;\n",
              "    }\n",
              "\n",
              "    .dataframe tbody tr th {\n",
              "        vertical-align: top;\n",
              "    }\n",
              "\n",
              "    .dataframe thead th {\n",
              "        text-align: right;\n",
              "    }\n",
              "</style>\n",
              "<table border=\"1\" class=\"dataframe\">\n",
              "  <thead>\n",
              "    <tr style=\"text-align: right;\">\n",
              "      <th></th>\n",
              "      <th>Index</th>\n",
              "      <th>Date</th>\n",
              "      <th>Open</th>\n",
              "      <th>High</th>\n",
              "      <th>Low</th>\n",
              "      <th>Close</th>\n",
              "      <th>Adj Close</th>\n",
              "      <th>Volume</th>\n",
              "      <th>CloseUSD</th>\n",
              "    </tr>\n",
              "  </thead>\n",
              "  <tbody>\n",
              "    <tr>\n",
              "      <th>0</th>\n",
              "      <td>HSI</td>\n",
              "      <td>1986-12-31</td>\n",
              "      <td>2568.300049</td>\n",
              "      <td>2568.300049</td>\n",
              "      <td>2568.300049</td>\n",
              "      <td>2568.300049</td>\n",
              "      <td>2568.300049</td>\n",
              "      <td>0.0</td>\n",
              "      <td>333.879006</td>\n",
              "    </tr>\n",
              "    <tr>\n",
              "      <th>1</th>\n",
              "      <td>HSI</td>\n",
              "      <td>1987-01-02</td>\n",
              "      <td>2540.100098</td>\n",
              "      <td>2540.100098</td>\n",
              "      <td>2540.100098</td>\n",
              "      <td>2540.100098</td>\n",
              "      <td>2540.100098</td>\n",
              "      <td>0.0</td>\n",
              "      <td>330.213013</td>\n",
              "    </tr>\n",
              "    <tr>\n",
              "      <th>2</th>\n",
              "      <td>HSI</td>\n",
              "      <td>1987-01-05</td>\n",
              "      <td>2552.399902</td>\n",
              "      <td>2552.399902</td>\n",
              "      <td>2552.399902</td>\n",
              "      <td>2552.399902</td>\n",
              "      <td>2552.399902</td>\n",
              "      <td>0.0</td>\n",
              "      <td>331.811987</td>\n",
              "    </tr>\n",
              "    <tr>\n",
              "      <th>3</th>\n",
              "      <td>HSI</td>\n",
              "      <td>1987-01-06</td>\n",
              "      <td>2583.899902</td>\n",
              "      <td>2583.899902</td>\n",
              "      <td>2583.899902</td>\n",
              "      <td>2583.899902</td>\n",
              "      <td>2583.899902</td>\n",
              "      <td>0.0</td>\n",
              "      <td>335.906987</td>\n",
              "    </tr>\n",
              "    <tr>\n",
              "      <th>4</th>\n",
              "      <td>HSI</td>\n",
              "      <td>1987-01-07</td>\n",
              "      <td>2607.100098</td>\n",
              "      <td>2607.100098</td>\n",
              "      <td>2607.100098</td>\n",
              "      <td>2607.100098</td>\n",
              "      <td>2607.100098</td>\n",
              "      <td>0.0</td>\n",
              "      <td>338.923013</td>\n",
              "    </tr>\n",
              "  </tbody>\n",
              "</table>\n",
              "</div>"
            ],
            "text/plain": [
              "  Index        Date         Open  ...    Adj Close  Volume    CloseUSD\n",
              "0   HSI  1986-12-31  2568.300049  ...  2568.300049     0.0  333.879006\n",
              "1   HSI  1987-01-02  2540.100098  ...  2540.100098     0.0  330.213013\n",
              "2   HSI  1987-01-05  2552.399902  ...  2552.399902     0.0  331.811987\n",
              "3   HSI  1987-01-06  2583.899902  ...  2583.899902     0.0  335.906987\n",
              "4   HSI  1987-01-07  2607.100098  ...  2607.100098     0.0  338.923013\n",
              "\n",
              "[5 rows x 9 columns]"
            ]
          },
          "metadata": {
            "tags": []
          },
          "execution_count": 83
        }
      ]
    },
    {
      "cell_type": "code",
      "metadata": {
        "colab": {
          "base_uri": "https://localhost:8080/"
        },
        "id": "mUG_6lzH_BOe",
        "outputId": "81cf2907-07f1-46e0-8352-5e1dc978946e"
      },
      "source": [
        "#Info Dataset\n",
        "df.info()"
      ],
      "execution_count": 84,
      "outputs": [
        {
          "output_type": "stream",
          "text": [
            "<class 'pandas.core.frame.DataFrame'>\n",
            "RangeIndex: 104224 entries, 0 to 104223\n",
            "Data columns (total 9 columns):\n",
            " #   Column     Non-Null Count   Dtype  \n",
            "---  ------     --------------   -----  \n",
            " 0   Index      104224 non-null  object \n",
            " 1   Date       104224 non-null  object \n",
            " 2   Open       104224 non-null  float64\n",
            " 3   High       104224 non-null  float64\n",
            " 4   Low        104224 non-null  float64\n",
            " 5   Close      104224 non-null  float64\n",
            " 6   Adj Close  104224 non-null  float64\n",
            " 7   Volume     104224 non-null  float64\n",
            " 8   CloseUSD   104224 non-null  float64\n",
            "dtypes: float64(7), object(2)\n",
            "memory usage: 7.2+ MB\n"
          ],
          "name": "stdout"
        }
      ]
    },
    {
      "cell_type": "code",
      "metadata": {
        "colab": {
          "base_uri": "https://localhost:8080/",
          "height": 779
        },
        "id": "ruLFWSglET0R",
        "outputId": "8746d2b2-7d77-490d-b17b-b8e08702763c"
      },
      "source": [
        "#Merge IndexInfo and IndexProcessed\n",
        "df = df.merge(dataset_info, on='Index')\n",
        "df"
      ],
      "execution_count": 85,
      "outputs": [
        {
          "output_type": "execute_result",
          "data": {
            "text/html": [
              "<div>\n",
              "<style scoped>\n",
              "    .dataframe tbody tr th:only-of-type {\n",
              "        vertical-align: middle;\n",
              "    }\n",
              "\n",
              "    .dataframe tbody tr th {\n",
              "        vertical-align: top;\n",
              "    }\n",
              "\n",
              "    .dataframe thead th {\n",
              "        text-align: right;\n",
              "    }\n",
              "</style>\n",
              "<table border=\"1\" class=\"dataframe\">\n",
              "  <thead>\n",
              "    <tr style=\"text-align: right;\">\n",
              "      <th></th>\n",
              "      <th>Index</th>\n",
              "      <th>Date</th>\n",
              "      <th>Open</th>\n",
              "      <th>High</th>\n",
              "      <th>Low</th>\n",
              "      <th>Close</th>\n",
              "      <th>Adj Close</th>\n",
              "      <th>Volume</th>\n",
              "      <th>CloseUSD</th>\n",
              "      <th>Region</th>\n",
              "      <th>Exchange</th>\n",
              "      <th>Currency</th>\n",
              "    </tr>\n",
              "  </thead>\n",
              "  <tbody>\n",
              "    <tr>\n",
              "      <th>0</th>\n",
              "      <td>HSI</td>\n",
              "      <td>1986-12-31</td>\n",
              "      <td>2568.300049</td>\n",
              "      <td>2568.300049</td>\n",
              "      <td>2568.300049</td>\n",
              "      <td>2568.300049</td>\n",
              "      <td>2568.300049</td>\n",
              "      <td>0.0</td>\n",
              "      <td>333.879006</td>\n",
              "      <td>Hong Kong</td>\n",
              "      <td>Hong Kong Stock Exchange</td>\n",
              "      <td>HKD</td>\n",
              "    </tr>\n",
              "    <tr>\n",
              "      <th>1</th>\n",
              "      <td>HSI</td>\n",
              "      <td>1987-01-02</td>\n",
              "      <td>2540.100098</td>\n",
              "      <td>2540.100098</td>\n",
              "      <td>2540.100098</td>\n",
              "      <td>2540.100098</td>\n",
              "      <td>2540.100098</td>\n",
              "      <td>0.0</td>\n",
              "      <td>330.213013</td>\n",
              "      <td>Hong Kong</td>\n",
              "      <td>Hong Kong Stock Exchange</td>\n",
              "      <td>HKD</td>\n",
              "    </tr>\n",
              "    <tr>\n",
              "      <th>2</th>\n",
              "      <td>HSI</td>\n",
              "      <td>1987-01-05</td>\n",
              "      <td>2552.399902</td>\n",
              "      <td>2552.399902</td>\n",
              "      <td>2552.399902</td>\n",
              "      <td>2552.399902</td>\n",
              "      <td>2552.399902</td>\n",
              "      <td>0.0</td>\n",
              "      <td>331.811987</td>\n",
              "      <td>Hong Kong</td>\n",
              "      <td>Hong Kong Stock Exchange</td>\n",
              "      <td>HKD</td>\n",
              "    </tr>\n",
              "    <tr>\n",
              "      <th>3</th>\n",
              "      <td>HSI</td>\n",
              "      <td>1987-01-06</td>\n",
              "      <td>2583.899902</td>\n",
              "      <td>2583.899902</td>\n",
              "      <td>2583.899902</td>\n",
              "      <td>2583.899902</td>\n",
              "      <td>2583.899902</td>\n",
              "      <td>0.0</td>\n",
              "      <td>335.906987</td>\n",
              "      <td>Hong Kong</td>\n",
              "      <td>Hong Kong Stock Exchange</td>\n",
              "      <td>HKD</td>\n",
              "    </tr>\n",
              "    <tr>\n",
              "      <th>4</th>\n",
              "      <td>HSI</td>\n",
              "      <td>1987-01-07</td>\n",
              "      <td>2607.100098</td>\n",
              "      <td>2607.100098</td>\n",
              "      <td>2607.100098</td>\n",
              "      <td>2607.100098</td>\n",
              "      <td>2607.100098</td>\n",
              "      <td>0.0</td>\n",
              "      <td>338.923013</td>\n",
              "      <td>Hong Kong</td>\n",
              "      <td>Hong Kong Stock Exchange</td>\n",
              "      <td>HKD</td>\n",
              "    </tr>\n",
              "    <tr>\n",
              "      <th>...</th>\n",
              "      <td>...</td>\n",
              "      <td>...</td>\n",
              "      <td>...</td>\n",
              "      <td>...</td>\n",
              "      <td>...</td>\n",
              "      <td>...</td>\n",
              "      <td>...</td>\n",
              "      <td>...</td>\n",
              "      <td>...</td>\n",
              "      <td>...</td>\n",
              "      <td>...</td>\n",
              "      <td>...</td>\n",
              "    </tr>\n",
              "    <tr>\n",
              "      <th>104219</th>\n",
              "      <td>J203.JO</td>\n",
              "      <td>2021-05-25</td>\n",
              "      <td>66054.921880</td>\n",
              "      <td>66812.453130</td>\n",
              "      <td>66022.976560</td>\n",
              "      <td>66076.679690</td>\n",
              "      <td>66076.679690</td>\n",
              "      <td>0.0</td>\n",
              "      <td>4625.367578</td>\n",
              "      <td>South Africa</td>\n",
              "      <td>Johannesburg Stock Exchange</td>\n",
              "      <td>ZAR</td>\n",
              "    </tr>\n",
              "    <tr>\n",
              "      <th>104220</th>\n",
              "      <td>J203.JO</td>\n",
              "      <td>2021-05-26</td>\n",
              "      <td>66076.679690</td>\n",
              "      <td>66446.367190</td>\n",
              "      <td>66030.351560</td>\n",
              "      <td>66108.226560</td>\n",
              "      <td>66108.226560</td>\n",
              "      <td>0.0</td>\n",
              "      <td>4627.575859</td>\n",
              "      <td>South Africa</td>\n",
              "      <td>Johannesburg Stock Exchange</td>\n",
              "      <td>ZAR</td>\n",
              "    </tr>\n",
              "    <tr>\n",
              "      <th>104221</th>\n",
              "      <td>J203.JO</td>\n",
              "      <td>2021-05-27</td>\n",
              "      <td>66108.226560</td>\n",
              "      <td>66940.250000</td>\n",
              "      <td>66102.546880</td>\n",
              "      <td>66940.250000</td>\n",
              "      <td>66940.250000</td>\n",
              "      <td>0.0</td>\n",
              "      <td>4685.817500</td>\n",
              "      <td>South Africa</td>\n",
              "      <td>Johannesburg Stock Exchange</td>\n",
              "      <td>ZAR</td>\n",
              "    </tr>\n",
              "    <tr>\n",
              "      <th>104222</th>\n",
              "      <td>J203.JO</td>\n",
              "      <td>2021-05-28</td>\n",
              "      <td>66940.250000</td>\n",
              "      <td>67726.562500</td>\n",
              "      <td>66794.609380</td>\n",
              "      <td>67554.859380</td>\n",
              "      <td>67554.859380</td>\n",
              "      <td>0.0</td>\n",
              "      <td>4728.840157</td>\n",
              "      <td>South Africa</td>\n",
              "      <td>Johannesburg Stock Exchange</td>\n",
              "      <td>ZAR</td>\n",
              "    </tr>\n",
              "    <tr>\n",
              "      <th>104223</th>\n",
              "      <td>J203.JO</td>\n",
              "      <td>2021-05-31</td>\n",
              "      <td>67554.859380</td>\n",
              "      <td>68140.851560</td>\n",
              "      <td>67554.859380</td>\n",
              "      <td>67964.039060</td>\n",
              "      <td>67964.039060</td>\n",
              "      <td>0.0</td>\n",
              "      <td>4757.482734</td>\n",
              "      <td>South Africa</td>\n",
              "      <td>Johannesburg Stock Exchange</td>\n",
              "      <td>ZAR</td>\n",
              "    </tr>\n",
              "  </tbody>\n",
              "</table>\n",
              "<p>104224 rows × 12 columns</p>\n",
              "</div>"
            ],
            "text/plain": [
              "          Index        Date  ...                     Exchange  Currency\n",
              "0           HSI  1986-12-31  ...     Hong Kong Stock Exchange       HKD\n",
              "1           HSI  1987-01-02  ...     Hong Kong Stock Exchange       HKD\n",
              "2           HSI  1987-01-05  ...     Hong Kong Stock Exchange       HKD\n",
              "3           HSI  1987-01-06  ...     Hong Kong Stock Exchange       HKD\n",
              "4           HSI  1987-01-07  ...     Hong Kong Stock Exchange       HKD\n",
              "...         ...         ...  ...                          ...       ...\n",
              "104219  J203.JO  2021-05-25  ...  Johannesburg Stock Exchange       ZAR\n",
              "104220  J203.JO  2021-05-26  ...  Johannesburg Stock Exchange       ZAR\n",
              "104221  J203.JO  2021-05-27  ...  Johannesburg Stock Exchange       ZAR\n",
              "104222  J203.JO  2021-05-28  ...  Johannesburg Stock Exchange       ZAR\n",
              "104223  J203.JO  2021-05-31  ...  Johannesburg Stock Exchange       ZAR\n",
              "\n",
              "[104224 rows x 12 columns]"
            ]
          },
          "metadata": {
            "tags": []
          },
          "execution_count": 85
        }
      ]
    },
    {
      "cell_type": "code",
      "metadata": {
        "colab": {
          "base_uri": "https://localhost:8080/"
        },
        "id": "qVuGt868EpLV",
        "outputId": "2c53c609-cce4-470d-da8d-b4166c31e9e9"
      },
      "source": [
        "#Convert Data Types\n",
        "df['Date'] = pd.to_datetime(df['Date'])\n",
        "df['Index'] = df['Index'].astype('category')\n",
        "df['Region'] = df['Region'].astype('category')\n",
        "df['Exchange'] = df['Exchange'].astype('category')\n",
        "df['Currency'] = df['Currency'].astype('category')\n",
        "\n",
        "print(df.dtypes)"
      ],
      "execution_count": 86,
      "outputs": [
        {
          "output_type": "stream",
          "text": [
            "Index              category\n",
            "Date         datetime64[ns]\n",
            "Open                float64\n",
            "High                float64\n",
            "Low                 float64\n",
            "Close               float64\n",
            "Adj Close           float64\n",
            "Volume              float64\n",
            "CloseUSD            float64\n",
            "Region             category\n",
            "Exchange           category\n",
            "Currency           category\n",
            "dtype: object\n"
          ],
          "name": "stdout"
        }
      ]
    },
    {
      "cell_type": "code",
      "metadata": {
        "colab": {
          "base_uri": "https://localhost:8080/"
        },
        "id": "xeg-M_YzE7oc",
        "outputId": "cbe3fc30-9d23-434b-e2ae-b802bc651ca2"
      },
      "source": [
        "#Checking Missing Values\n",
        "df.isnull().sum()"
      ],
      "execution_count": 87,
      "outputs": [
        {
          "output_type": "execute_result",
          "data": {
            "text/plain": [
              "Index        0\n",
              "Date         0\n",
              "Open         0\n",
              "High         0\n",
              "Low          0\n",
              "Close        0\n",
              "Adj Close    0\n",
              "Volume       0\n",
              "CloseUSD     0\n",
              "Region       0\n",
              "Exchange     0\n",
              "Currency     0\n",
              "dtype: int64"
            ]
          },
          "metadata": {
            "tags": []
          },
          "execution_count": 87
        }
      ]
    },
    {
      "cell_type": "code",
      "metadata": {
        "colab": {
          "base_uri": "https://localhost:8080/"
        },
        "id": "5O3FI-AhQCm2",
        "outputId": "7020f597-fbb8-4888-a8fb-08a071580ac1"
      },
      "source": [
        "#I just want to analyze the specific index, so for this case, I will just analyze 'NYA' Index\n",
        "df_NYA = df.loc[(df[\"Index\"] == 'NYA')]\n",
        "print('5 Baris Teratas:\\n', df_NYA.head())\n",
        "print('\\n5 Baris Terbawah:\\n', df_NYA.tail())\n",
        "print('\\nShape Dataset:\\n', df_NYA.shape)"
      ],
      "execution_count": 88,
      "outputs": [
        {
          "output_type": "stream",
          "text": [
            "5 Baris Teratas:\n",
            "      Index       Date  ...                 Exchange  Currency\n",
            "8492   NYA 1965-12-31  ...  New York Stock Exchange       USD\n",
            "8493   NYA 1966-01-03  ...  New York Stock Exchange       USD\n",
            "8494   NYA 1966-01-04  ...  New York Stock Exchange       USD\n",
            "8495   NYA 1966-01-05  ...  New York Stock Exchange       USD\n",
            "8496   NYA 1966-01-06  ...  New York Stock Exchange       USD\n",
            "\n",
            "[5 rows x 12 columns]\n",
            "\n",
            "5 Baris Terbawah:\n",
            "       Index       Date  ...                 Exchange  Currency\n",
            "22434   NYA 2021-05-24  ...  New York Stock Exchange       USD\n",
            "22435   NYA 2021-05-25  ...  New York Stock Exchange       USD\n",
            "22436   NYA 2021-05-26  ...  New York Stock Exchange       USD\n",
            "22437   NYA 2021-05-27  ...  New York Stock Exchange       USD\n",
            "22438   NYA 2021-05-28  ...  New York Stock Exchange       USD\n",
            "\n",
            "[5 rows x 12 columns]\n",
            "\n",
            "Shape Dataset:\n",
            " (13947, 12)\n"
          ],
          "name": "stdout"
        }
      ]
    },
    {
      "cell_type": "code",
      "metadata": {
        "colab": {
          "base_uri": "https://localhost:8080/",
          "height": 341
        },
        "id": "ia7r1iA1BEeB",
        "outputId": "c1613648-da42-4c54-a651-607f1fd61dc0"
      },
      "source": [
        "#Plotting dataset 'Open' and dates\n",
        "plt.figure(figsize=(15,5))\n",
        "plt.plot(df_NYA['Date'], df_NYA['Open'])\n",
        "plt.title('New York Open Stock Exchange in USA', fontsize=20);"
      ],
      "execution_count": 89,
      "outputs": [
        {
          "output_type": "display_data",
          "data": {
            "image/png": "[encoded data removed]",
            "text/plain": [
              "<Figure size 1080x360 with 1 Axes>"
            ]
          },
          "metadata": {
            "tags": [],
            "needs_background": "light"
          }
        }
      ]
    },
    {
      "cell_type": "code",
      "metadata": {
        "colab": {
          "base_uri": "https://localhost:8080/"
        },
        "id": "AqClrjRG1GuV",
        "outputId": "0d39e0a5-8970-485e-ca30-8b41aa3dc6c0"
      },
      "source": [
        "minMAE = (df_NYA['Open'].max() - df_NYA['Open'].min()) * (10/100)\n",
        "minMAE"
      ],
      "execution_count": 90,
      "outputs": [
        {
          "output_type": "execute_result",
          "data": {
            "text/plain": [
              "1624.2659701000002"
            ]
          },
          "metadata": {
            "tags": []
          },
          "execution_count": 90
        }
      ]
    },
    {
      "cell_type": "code",
      "metadata": {
        "id": "mm0Alyya4L0K"
      },
      "source": [
        "#Variables for training\n",
        "cols = list(df_NYA)[2:7]\n",
        "\n",
        "df_cols = df_NYA[cols].astype(float)"
      ],
      "execution_count": 91,
      "outputs": []
    },
    {
      "cell_type": "code",
      "metadata": {
        "id": "xUbUhrbJ7Ef_"
      },
      "source": [
        "#LSTM used sigmoid and tanh that are sensitive to magnitude so values need to be normalized\n",
        "#normalize the dataset\n",
        "scaler = StandardScaler()\n",
        "scaler = scaler.fit(df_cols)\n",
        "df_cols_scaled = scaler.transform(df_cols)"
      ],
      "execution_count": 92,
      "outputs": []
    },
    {
      "cell_type": "code",
      "metadata": {
        "id": "8XIx-rjY4UKi"
      },
      "source": [
        "dates = df_NYA['Date'].values\n",
        "open = df_NYA['Open'].values"
      ],
      "execution_count": 93,
      "outputs": []
    },
    {
      "cell_type": "code",
      "metadata": {
        "id": "tY7lcfkj7KsQ"
      },
      "source": [
        "dates = np.asarray(dates).astype('float32')\n",
        "open= np.asarray(open).astype('float32')"
      ],
      "execution_count": 94,
      "outputs": []
    },
    {
      "cell_type": "code",
      "metadata": {
        "id": "IXOK0Ki2AITH",
        "colab": {
          "base_uri": "https://localhost:8080/"
        },
        "outputId": "3b161380-400d-4cd6-9f75-916cc25c0440"
      },
      "source": [
        "#As required for LSTM networks, require to reshape an input data into n_samples x timesteps\n",
        "#In this example, the n_features is 2. I will make timesteps = 3\n",
        "#With this, the resultant n_samples is 5 (as the input data has 9 rows)\n",
        "trainX = []\n",
        "trainY = []\n",
        "\n",
        "n_future = 1 #Number of days I want to predict into the future\n",
        "n_past = 14 # Number of past days I want to use to predict the future\n",
        "\n",
        "\n",
        "for i in range(n_past, len(df_cols_scaled) - n_future+1):\n",
        "  trainX.append(df_cols_scaled[i - n_past:i, 0:df_cols.shape[1]])\n",
        "  trainY.append(df_cols_scaled[i + n_future - 1:i + n_future,0])\n",
        "\n",
        "trainX, trainY = np.array(trainX), np.array(trainY)\n",
        "\n",
        "print('trainX shape == {}.'.format(trainX.shape)) #holding 14 days that are looking back and 5 variables that we got\n",
        "print('trainY shape == {}.'.format(trainY.shape)) # 1 is the day after n_past"
      ],
      "execution_count": 95,
      "outputs": [
        {
          "output_type": "stream",
          "text": [
            "trainX shape == (13933, 14, 5).\n",
            "trainY shape == (13933, 1).\n"
          ],
          "name": "stdout"
        }
      ]
    },
    {
      "cell_type": "code",
      "metadata": {
        "colab": {
          "base_uri": "https://localhost:8080/"
        },
        "id": "ztVugCGQVxlt",
        "outputId": "0a4df99a-7383-40a1-e582-3046a3e36224"
      },
      "source": [
        " model = tf.keras.models.Sequential([\n",
        "                                     tf.keras.layers.LSTM(64, activation='relu', input_shape=(trainX.shape[1], trainX.shape[2]), return_sequences=True),\n",
        "                                     tf.keras.layers.LSTM(32, activation='relu', return_sequences=False),\n",
        "                                     tf.keras.layers.Dropout(0.2),\n",
        "                                     tf.keras.layers.Dense(32, activation=\"relu\"),\n",
        "                                     tf.keras.layers.Dense(trainY.shape[1])    \n",
        "                                   ])\n",
        " \n",
        "optimizer = tf.keras.optimizers.SGD(lr=1.0000e-04, momentum=0.9)\n",
        "\n",
        "model.compile(loss=tf.keras.losses.Huber(),\n",
        "              optimizer=optimizer,\n",
        "              metrics=[\"mae\"])\n",
        "  \n",
        "model.summary()"
      ],
      "execution_count": 96,
      "outputs": [
        {
          "output_type": "stream",
          "text": [
            "Model: \"sequential_2\"\n",
            "_________________________________________________________________\n",
            "Layer (type)                 Output Shape              Param #   \n",
            "=================================================================\n",
            "lstm_4 (LSTM)                (None, 14, 64)            17920     \n",
            "_________________________________________________________________\n",
            "lstm_5 (LSTM)                (None, 32)                12416     \n",
            "_________________________________________________________________\n",
            "dropout_2 (Dropout)          (None, 32)                0         \n",
            "_________________________________________________________________\n",
            "dense_4 (Dense)              (None, 32)                1056      \n",
            "_________________________________________________________________\n",
            "dense_5 (Dense)              (None, 1)                 33        \n",
            "=================================================================\n",
            "Total params: 31,425\n",
            "Trainable params: 31,425\n",
            "Non-trainable params: 0\n",
            "_________________________________________________________________\n"
          ],
          "name": "stdout"
        },
        {
          "output_type": "stream",
          "text": [
            "/usr/local/lib/python3.7/dist-packages/tensorflow/python/keras/optimizer_v2/optimizer_v2.py:375: UserWarning: The `lr` argument is deprecated, use `learning_rate` instead.\n",
            "  \"The `lr` argument is deprecated, use `learning_rate` instead.\")\n"
          ],
          "name": "stderr"
        }
      ]
    },
    {
      "cell_type": "code",
      "metadata": {
        "id": "yf4qS8M6dMnk"
      },
      "source": [
        "#Membuat fungsi callback\n",
        "class myCallback(tf.keras.callbacks.Callback):\n",
        "  def on_epoch_end(self, epoch, logs={}):\n",
        "    if(logs.get('mae')<0.1):\n",
        "      print(\"\\nmae kurang dari 10%\")\n",
        "      self.model.stop_training = True\n",
        "callbacks = myCallback()"
      ],
      "execution_count": 97,
      "outputs": []
    },
    {
      "cell_type": "code",
      "metadata": {
        "colab": {
          "base_uri": "https://localhost:8080/"
        },
        "id": "tXUjW-sNdqrK",
        "outputId": "ad3b9f12-c33b-4dc4-aeb0-5dc0d24a46ef"
      },
      "source": [
        "#Training Model\n",
        "history = model.fit(trainX, trainY, batch_size=16, validation_split=0.2, epochs=50, verbose=2, callbacks=[callbacks])"
      ],
      "execution_count": 98,
      "outputs": [
        {
          "output_type": "stream",
          "text": [
            "Epoch 1/50\n",
            "697/697 - 14s - loss: 0.1457 - mae: 0.4635 - val_loss: 0.9761 - val_mae: 1.4698\n",
            "Epoch 2/50\n",
            "697/697 - 11s - loss: 0.0634 - mae: 0.2461 - val_loss: 0.6508 - val_mae: 1.1256\n",
            "Epoch 3/50\n",
            "697/697 - 10s - loss: 0.0385 - mae: 0.1977 - val_loss: 0.3924 - val_mae: 0.8349\n",
            "Epoch 4/50\n",
            "697/697 - 10s - loss: 0.0268 - mae: 0.1681 - val_loss: 0.1992 - val_mae: 0.5854\n",
            "Epoch 5/50\n",
            "697/697 - 10s - loss: 0.0217 - mae: 0.1524 - val_loss: 0.0907 - val_mae: 0.3971\n",
            "Epoch 6/50\n",
            "697/697 - 10s - loss: 0.0178 - mae: 0.1364 - val_loss: 0.0430 - val_mae: 0.2752\n",
            "Epoch 7/50\n",
            "697/697 - 10s - loss: 0.0164 - mae: 0.1296 - val_loss: 0.0219 - val_mae: 0.1948\n",
            "Epoch 8/50\n",
            "697/697 - 10s - loss: 0.0153 - mae: 0.1237 - val_loss: 0.0129 - val_mae: 0.1473\n",
            "Epoch 9/50\n",
            "697/697 - 10s - loss: 0.0143 - mae: 0.1202 - val_loss: 0.0100 - val_mae: 0.1246\n",
            "Epoch 10/50\n",
            "697/697 - 10s - loss: 0.0133 - mae: 0.1156 - val_loss: 0.0092 - val_mae: 0.1119\n",
            "Epoch 11/50\n",
            "697/697 - 10s - loss: 0.0126 - mae: 0.1107 - val_loss: 0.0095 - val_mae: 0.1109\n",
            "Epoch 12/50\n",
            "697/697 - 10s - loss: 0.0122 - mae: 0.1089 - val_loss: 0.0099 - val_mae: 0.1074\n",
            "Epoch 13/50\n",
            "697/697 - 10s - loss: 0.0117 - mae: 0.1069 - val_loss: 0.0105 - val_mae: 0.1062\n",
            "Epoch 14/50\n",
            "697/697 - 10s - loss: 0.0115 - mae: 0.1051 - val_loss: 0.0113 - val_mae: 0.1060\n",
            "Epoch 15/50\n",
            "697/697 - 9s - loss: 0.0108 - mae: 0.1017 - val_loss: 0.0115 - val_mae: 0.1075\n",
            "Epoch 16/50\n",
            "697/697 - 9s - loss: 0.0108 - mae: 0.1010 - val_loss: 0.0132 - val_mae: 0.1084\n",
            "Epoch 17/50\n",
            "697/697 - 9s - loss: 0.0103 - mae: 0.0987 - val_loss: 0.0144 - val_mae: 0.1106\n",
            "\n",
            "mae kurang dari 10%\n"
          ],
          "name": "stdout"
        }
      ]
    },
    {
      "cell_type": "code",
      "metadata": {
        "colab": {
          "base_uri": "https://localhost:8080/",
          "height": 282
        },
        "id": "YU_oq27LgEwI",
        "outputId": "9bba78af-c793-4d8c-db2e-210a19e32678"
      },
      "source": [
        "#Plot mae\n",
        "plt.plot(history.history['mae'], label='Training mae')\n",
        "plt.plot(history.history['val_mae'], label='Validation mae')\n",
        "plt.legend()"
      ],
      "execution_count": 99,
      "outputs": [
        {
          "output_type": "execute_result",
          "data": {
            "text/plain": [
              "<matplotlib.legend.Legend at 0x7f0818f91cd0>"
            ]
          },
          "metadata": {
            "tags": []
          },
          "execution_count": 99
        },
        {
          "output_type": "display_data",
          "data": {
            "image/png": "[encoded data removed]",
            "text/plain": [
              "<Figure size 432x288 with 1 Axes>"
            ]
          },
          "metadata": {
            "tags": [],
            "needs_background": "light"
          }
        }
      ]
    },
    {
      "cell_type": "code",
      "metadata": {
        "colab": {
          "base_uri": "https://localhost:8080/",
          "height": 282
        },
        "id": "RY9YnOlnhWqh",
        "outputId": "c06d2891-9d95-4b4a-866b-fb9a4a666e9e"
      },
      "source": [
        "#Plot loss\n",
        "plt.plot(history.history['loss'], label='Training Loss')\n",
        "plt.plot(history.history['val_loss'], label='Validation Loss')\n",
        "plt.legend()"
      ],
      "execution_count": 100,
      "outputs": [
        {
          "output_type": "execute_result",
          "data": {
            "text/plain": [
              "<matplotlib.legend.Legend at 0x7f0818f6ad50>"
            ]
          },
          "metadata": {
            "tags": []
          },
          "execution_count": 100
        },
        {
          "output_type": "display_data",
          "data": {
            "image/png": "[encoded data removed]",
            "text/plain": [
              "<Figure size 432x288 with 1 Axes>"
            ]
          },
          "metadata": {
            "tags": [],
            "needs_background": "light"
          }
        }
      ]
    },
    {
      "cell_type": "markdown",
      "metadata": {
        "id": "xCjPh6GNzNOa"
      },
      "source": [
        "# **Forecasting**"
      ]
    },
    {
      "cell_type": "code",
      "metadata": {
        "colab": {
          "base_uri": "https://localhost:8080/"
        },
        "id": "iTeDH6aqy53B",
        "outputId": "4ba306a0-c94c-458b-b669-0734d757b000"
      },
      "source": [
        "#Start with the last day in training date and predict future\n",
        "n_future = 360 #Redefining n_future to extend prediction dates beyond original n_future dates\n",
        "forecast_period_dates = pd.date_range(list(df_NYA['Date'])[-30], periods=n_future, freq='1d').tolist()\n",
        "\n",
        "print(forecast_period_dates)"
      ],
      "execution_count": 101,
      "outputs": [
        {
          "output_type": "stream",
          "text": [
            "[Timestamp('2021-05-28 00:00:00', freq='D'), Timestamp('2021-05-29 00:00:00', freq='D'), Timestamp('2021-05-30 00:00:00', freq='D'), Timestamp('2021-05-31 00:00:00', freq='D'), Timestamp('2021-06-01 00:00:00', freq='D'), Timestamp('2021-06-02 00:00:00', freq='D'), Timestamp('2021-06-03 00:00:00', freq='D'), Timestamp('2021-06-04 00:00:00', freq='D'), Timestamp('2021-06-05 00:00:00', freq='D'), Timestamp('2021-06-06 00:00:00', freq='D'), Timestamp('2021-06-07 00:00:00', freq='D'), Timestamp('2021-06-08 00:00:00', freq='D'), Timestamp('2021-06-09 00:00:00', freq='D'), Timestamp('2021-06-10 00:00:00', freq='D'), Timestamp('2021-06-11 00:00:00', freq='D'), Timestamp('2021-06-12 00:00:00', freq='D'), Timestamp('2021-06-13 00:00:00', freq='D'), Timestamp('2021-06-14 00:00:00', freq='D'), Timestamp('2021-06-15 00:00:00', freq='D'), Timestamp('2021-06-16 00:00:00', freq='D'), Timestamp('2021-06-17 00:00:00', freq='D'), Timestamp('2021-06-18 00:00:00', freq='D'), Timestamp('2021-06-19 00:00:00', freq='D'), Timestamp('2021-06-20 00:00:00', freq='D'), Timestamp('2021-06-21 00:00:00', freq='D'), Timestamp('2021-06-22 00:00:00', freq='D'), Timestamp('2021-06-23 00:00:00', freq='D'), Timestamp('2021-06-24 00:00:00', freq='D'), Timestamp('2021-06-25 00:00:00', freq='D'), Timestamp('2021-06-26 00:00:00', freq='D'), Timestamp('2021-06-27 00:00:00', freq='D'), Timestamp('2021-06-28 00:00:00', freq='D'), Timestamp('2021-06-29 00:00:00', freq='D'), Timestamp('2021-06-30 00:00:00', freq='D'), Timestamp('2021-07-01 00:00:00', freq='D'), Timestamp('2021-07-02 00:00:00', freq='D'), Timestamp('2021-07-03 00:00:00', freq='D'), Timestamp('2021-07-04 00:00:00', freq='D'), Timestamp('2021-07-05 00:00:00', freq='D'), Timestamp('2021-07-06 00:00:00', freq='D'), Timestamp('2021-07-07 00:00:00', freq='D'), Timestamp('2021-07-08 00:00:00', freq='D'), Timestamp('2021-07-09 00:00:00', freq='D'), Timestamp('2021-07-10 00:00:00', freq='D'), Timestamp('2021-07-11 00:00:00', freq='D'), Timestamp('2021-07-12 00:00:00', freq='D'), Timestamp('2021-07-13 00:00:00', freq='D'), Timestamp('2021-07-14 00:00:00', freq='D'), Timestamp('2021-07-15 00:00:00', freq='D'), Timestamp('2021-07-16 00:00:00', freq='D'), Timestamp('2021-07-17 00:00:00', freq='D'), Timestamp('2021-07-18 00:00:00', freq='D'), Timestamp('2021-07-19 00:00:00', freq='D'), Timestamp('2021-07-20 00:00:00', freq='D'), Timestamp('2021-07-21 00:00:00', freq='D'), Timestamp('2021-07-22 00:00:00', freq='D'), Timestamp('2021-07-23 00:00:00', freq='D'), Timestamp('2021-07-24 00:00:00', freq='D'), Timestamp('2021-07-25 00:00:00', freq='D'), Timestamp('2021-07-26 00:00:00', freq='D'), Timestamp('2021-07-27 00:00:00', freq='D'), Timestamp('2021-07-28 00:00:00', freq='D'), Timestamp('2021-07-29 00:00:00', freq='D'), Timestamp('2021-07-30 00:00:00', freq='D'), Timestamp('2021-07-31 00:00:00', freq='D'), Timestamp('2021-08-01 00:00:00', freq='D'), Timestamp('2021-08-02 00:00:00', freq='D'), Timestamp('2021-08-03 00:00:00', freq='D'), Timestamp('2021-08-04 00:00:00', freq='D'), Timestamp('2021-08-05 00:00:00', freq='D'), Timestamp('2021-08-06 00:00:00', freq='D'), Timestamp('2021-08-07 00:00:00', freq='D'), Timestamp('2021-08-08 00:00:00', freq='D'), Timestamp('2021-08-09 00:00:00', freq='D'), Timestamp('2021-08-10 00:00:00', freq='D'), Timestamp('2021-08-11 00:00:00', freq='D'), Timestamp('2021-08-12 00:00:00', freq='D'), Timestamp('2021-08-13 00:00:00', freq='D'), Timestamp('2021-08-14 00:00:00', freq='D'), Timestamp('2021-08-15 00:00:00', freq='D'), Timestamp('2021-08-16 00:00:00', freq='D'), Timestamp('2021-08-17 00:00:00', freq='D'), Timestamp('2021-08-18 00:00:00', freq='D'), Timestamp('2021-08-19 00:00:00', freq='D'), Timestamp('2021-08-20 00:00:00', freq='D'), Timestamp('2021-08-21 00:00:00', freq='D'), Timestamp('2021-08-22 00:00:00', freq='D'), Timestamp('2021-08-23 00:00:00', freq='D'), Timestamp('2021-08-24 00:00:00', freq='D'), Timestamp('2021-08-25 00:00:00', freq='D'), Timestamp('2021-08-26 00:00:00', freq='D'), Timestamp('2021-08-27 00:00:00', freq='D'), Timestamp('2021-08-28 00:00:00', freq='D'), Timestamp('2021-08-29 00:00:00', freq='D'), Timestamp('2021-08-30 00:00:00', freq='D'), Timestamp('2021-08-31 00:00:00', freq='D'), Timestamp('2021-09-01 00:00:00', freq='D'), Timestamp('2021-09-02 00:00:00', freq='D'), Timestamp('2021-09-03 00:00:00', freq='D'), Timestamp('2021-09-04 00:00:00', freq='D'), Timestamp('2021-09-05 00:00:00', freq='D'), Timestamp('2021-09-06 00:00:00', freq='D'), Timestamp('2021-09-07 00:00:00', freq='D'), Timestamp('2021-09-08 00:00:00', freq='D'), Timestamp('2021-09-09 00:00:00', freq='D'), Timestamp('2021-09-10 00:00:00', freq='D'), Timestamp('2021-09-11 00:00:00', freq='D'), Timestamp('2021-09-12 00:00:00', freq='D'), Timestamp('2021-09-13 00:00:00', freq='D'), Timestamp('2021-09-14 00:00:00', freq='D'), Timestamp('2021-09-15 00:00:00', freq='D'), Timestamp('2021-09-16 00:00:00', freq='D'), Timestamp('2021-09-17 00:00:00', freq='D'), Timestamp('2021-09-18 00:00:00', freq='D'), Timestamp('2021-09-19 00:00:00', freq='D'), Timestamp('2021-09-20 00:00:00', freq='D'), Timestamp('2021-09-21 00:00:00', freq='D'), Timestamp('2021-09-22 00:00:00', freq='D'), Timestamp('2021-09-23 00:00:00', freq='D'), Timestamp('2021-09-24 00:00:00', freq='D'), Timestamp('2021-09-25 00:00:00', freq='D'), Timestamp('2021-09-26 00:00:00', freq='D'), Timestamp('2021-09-27 00:00:00', freq='D'), Timestamp('2021-09-28 00:00:00', freq='D'), Timestamp('2021-09-29 00:00:00', freq='D'), Timestamp('2021-09-30 00:00:00', freq='D'), Timestamp('2021-10-01 00:00:00', freq='D'), Timestamp('2021-10-02 00:00:00', freq='D'), Timestamp('2021-10-03 00:00:00', freq='D'), Timestamp('2021-10-04 00:00:00', freq='D'), Timestamp('2021-10-05 00:00:00', freq='D'), Timestamp('2021-10-06 00:00:00', freq='D'), Timestamp('2021-10-07 00:00:00', freq='D'), Timestamp('2021-10-08 00:00:00', freq='D'), Timestamp('2021-10-09 00:00:00', freq='D'), Timestamp('2021-10-10 00:00:00', freq='D'), Timestamp('2021-10-11 00:00:00', freq='D'), Timestamp('2021-10-12 00:00:00', freq='D'), Timestamp('2021-10-13 00:00:00', freq='D'), Timestamp('2021-10-14 00:00:00', freq='D'), Timestamp('2021-10-15 00:00:00', freq='D'), Timestamp('2021-10-16 00:00:00', freq='D'), Timestamp('2021-10-17 00:00:00', freq='D'), Timestamp('2021-10-18 00:00:00', freq='D'), Timestamp('2021-10-19 00:00:00', freq='D'), Timestamp('2021-10-20 00:00:00', freq='D'), Timestamp('2021-10-21 00:00:00', freq='D'), Timestamp('2021-10-22 00:00:00', freq='D'), Timestamp('2021-10-23 00:00:00', freq='D'), Timestamp('2021-10-24 00:00:00', freq='D'), Timestamp('2021-10-25 00:00:00', freq='D'), Timestamp('2021-10-26 00:00:00', freq='D'), Timestamp('2021-10-27 00:00:00', freq='D'), Timestamp('2021-10-28 00:00:00', freq='D'), Timestamp('2021-10-29 00:00:00', freq='D'), Timestamp('2021-10-30 00:00:00', freq='D'), Timestamp('2021-10-31 00:00:00', freq='D'), Timestamp('2021-11-01 00:00:00', freq='D'), Timestamp('2021-11-02 00:00:00', freq='D'), Timestamp('2021-11-03 00:00:00', freq='D'), Timestamp('2021-11-04 00:00:00', freq='D'), Timestamp('2021-11-05 00:00:00', freq='D'), Timestamp('2021-11-06 00:00:00', freq='D'), Timestamp('2021-11-07 00:00:00', freq='D'), Timestamp('2021-11-08 00:00:00', freq='D'), Timestamp('2021-11-09 00:00:00', freq='D'), Timestamp('2021-11-10 00:00:00', freq='D'), Timestamp('2021-11-11 00:00:00', freq='D'), Timestamp('2021-11-12 00:00:00', freq='D'), Timestamp('2021-11-13 00:00:00', freq='D'), Timestamp('2021-11-14 00:00:00', freq='D'), Timestamp('2021-11-15 00:00:00', freq='D'), Timestamp('2021-11-16 00:00:00', freq='D'), Timestamp('2021-11-17 00:00:00', freq='D'), Timestamp('2021-11-18 00:00:00', freq='D'), Timestamp('2021-11-19 00:00:00', freq='D'), Timestamp('2021-11-20 00:00:00', freq='D'), Timestamp('2021-11-21 00:00:00', freq='D'), Timestamp('2021-11-22 00:00:00', freq='D'), Timestamp('2021-11-23 00:00:00', freq='D'), Timestamp('2021-11-24 00:00:00', freq='D'), Timestamp('2021-11-25 00:00:00', freq='D'), Timestamp('2021-11-26 00:00:00', freq='D'), Timestamp('2021-11-27 00:00:00', freq='D'), Timestamp('2021-11-28 00:00:00', freq='D'), Timestamp('2021-11-29 00:00:00', freq='D'), Timestamp('2021-11-30 00:00:00', freq='D'), Timestamp('2021-12-01 00:00:00', freq='D'), Timestamp('2021-12-02 00:00:00', freq='D'), Timestamp('2021-12-03 00:00:00', freq='D'), Timestamp('2021-12-04 00:00:00', freq='D'), Timestamp('2021-12-05 00:00:00', freq='D'), Timestamp('2021-12-06 00:00:00', freq='D'), Timestamp('2021-12-07 00:00:00', freq='D'), Timestamp('2021-12-08 00:00:00', freq='D'), Timestamp('2021-12-09 00:00:00', freq='D'), Timestamp('2021-12-10 00:00:00', freq='D'), Timestamp('2021-12-11 00:00:00', freq='D'), Timestamp('2021-12-12 00:00:00', freq='D'), Timestamp('2021-12-13 00:00:00', freq='D'), Timestamp('2021-12-14 00:00:00', freq='D'), Timestamp('2021-12-15 00:00:00', freq='D'), Timestamp('2021-12-16 00:00:00', freq='D'), Timestamp('2021-12-17 00:00:00', freq='D'), Timestamp('2021-12-18 00:00:00', freq='D'), Timestamp('2021-12-19 00:00:00', freq='D'), Timestamp('2021-12-20 00:00:00', freq='D'), Timestamp('2021-12-21 00:00:00', freq='D'), Timestamp('2021-12-22 00:00:00', freq='D'), Timestamp('2021-12-23 00:00:00', freq='D'), Timestamp('2021-12-24 00:00:00', freq='D'), Timestamp('2021-12-25 00:00:00', freq='D'), Timestamp('2021-12-26 00:00:00', freq='D'), Timestamp('2021-12-27 00:00:00', freq='D'), Timestamp('2021-12-28 00:00:00', freq='D'), Timestamp('2021-12-29 00:00:00', freq='D'), Timestamp('2021-12-30 00:00:00', freq='D'), Timestamp('2021-12-31 00:00:00', freq='D'), Timestamp('2022-01-01 00:00:00', freq='D'), Timestamp('2022-01-02 00:00:00', freq='D'), Timestamp('2022-01-03 00:00:00', freq='D'), Timestamp('2022-01-04 00:00:00', freq='D'), Timestamp('2022-01-05 00:00:00', freq='D'), Timestamp('2022-01-06 00:00:00', freq='D'), Timestamp('2022-01-07 00:00:00', freq='D'), Timestamp('2022-01-08 00:00:00', freq='D'), Timestamp('2022-01-09 00:00:00', freq='D'), Timestamp('2022-01-10 00:00:00', freq='D'), Timestamp('2022-01-11 00:00:00', freq='D'), Timestamp('2022-01-12 00:00:00', freq='D'), Timestamp('2022-01-13 00:00:00', freq='D'), Timestamp('2022-01-14 00:00:00', freq='D'), Timestamp('2022-01-15 00:00:00', freq='D'), Timestamp('2022-01-16 00:00:00', freq='D'), Timestamp('2022-01-17 00:00:00', freq='D'), Timestamp('2022-01-18 00:00:00', freq='D'), Timestamp('2022-01-19 00:00:00', freq='D'), Timestamp('2022-01-20 00:00:00', freq='D'), Timestamp('2022-01-21 00:00:00', freq='D'), Timestamp('2022-01-22 00:00:00', freq='D'), Timestamp('2022-01-23 00:00:00', freq='D'), Timestamp('2022-01-24 00:00:00', freq='D'), Timestamp('2022-01-25 00:00:00', freq='D'), Timestamp('2022-01-26 00:00:00', freq='D'), Timestamp('2022-01-27 00:00:00', freq='D'), Timestamp('2022-01-28 00:00:00', freq='D'), Timestamp('2022-01-29 00:00:00', freq='D'), Timestamp('2022-01-30 00:00:00', freq='D'), Timestamp('2022-01-31 00:00:00', freq='D'), Timestamp('2022-02-01 00:00:00', freq='D'), Timestamp('2022-02-02 00:00:00', freq='D'), Timestamp('2022-02-03 00:00:00', freq='D'), Timestamp('2022-02-04 00:00:00', freq='D'), Timestamp('2022-02-05 00:00:00', freq='D'), Timestamp('2022-02-06 00:00:00', freq='D'), Timestamp('2022-02-07 00:00:00', freq='D'), Timestamp('2022-02-08 00:00:00', freq='D'), Timestamp('2022-02-09 00:00:00', freq='D'), Timestamp('2022-02-10 00:00:00', freq='D'), Timestamp('2022-02-11 00:00:00', freq='D'), Timestamp('2022-02-12 00:00:00', freq='D'), Timestamp('2022-02-13 00:00:00', freq='D'), Timestamp('2022-02-14 00:00:00', freq='D'), Timestamp('2022-02-15 00:00:00', freq='D'), Timestamp('2022-02-16 00:00:00', freq='D'), Timestamp('2022-02-17 00:00:00', freq='D'), Timestamp('2022-02-18 00:00:00', freq='D'), Timestamp('2022-02-19 00:00:00', freq='D'), Timestamp('2022-02-20 00:00:00', freq='D'), Timestamp('2022-02-21 00:00:00', freq='D'), Timestamp('2022-02-22 00:00:00', freq='D'), Timestamp('2022-02-23 00:00:00', freq='D'), Timestamp('2022-02-24 00:00:00', freq='D'), Timestamp('2022-02-25 00:00:00', freq='D'), Timestamp('2022-02-26 00:00:00', freq='D'), Timestamp('2022-02-27 00:00:00', freq='D'), Timestamp('2022-02-28 00:00:00', freq='D'), Timestamp('2022-03-01 00:00:00', freq='D'), Timestamp('2022-03-02 00:00:00', freq='D'), Timestamp('2022-03-03 00:00:00', freq='D'), Timestamp('2022-03-04 00:00:00', freq='D'), Timestamp('2022-03-05 00:00:00', freq='D'), Timestamp('2022-03-06 00:00:00', freq='D'), Timestamp('2022-03-07 00:00:00', freq='D'), Timestamp('2022-03-08 00:00:00', freq='D'), Timestamp('2022-03-09 00:00:00', freq='D'), Timestamp('2022-03-10 00:00:00', freq='D'), Timestamp('2022-03-11 00:00:00', freq='D'), Timestamp('2022-03-12 00:00:00', freq='D'), Timestamp('2022-03-13 00:00:00', freq='D'), Timestamp('2022-03-14 00:00:00', freq='D'), Timestamp('2022-03-15 00:00:00', freq='D'), Timestamp('2022-03-16 00:00:00', freq='D'), Timestamp('2022-03-17 00:00:00', freq='D'), Timestamp('2022-03-18 00:00:00', freq='D'), Timestamp('2022-03-19 00:00:00', freq='D'), Timestamp('2022-03-20 00:00:00', freq='D'), Timestamp('2022-03-21 00:00:00', freq='D'), Timestamp('2022-03-22 00:00:00', freq='D'), Timestamp('2022-03-23 00:00:00', freq='D'), Timestamp('2022-03-24 00:00:00', freq='D'), Timestamp('2022-03-25 00:00:00', freq='D'), Timestamp('2022-03-26 00:00:00', freq='D'), Timestamp('2022-03-27 00:00:00', freq='D'), Timestamp('2022-03-28 00:00:00', freq='D'), Timestamp('2022-03-29 00:00:00', freq='D'), Timestamp('2022-03-30 00:00:00', freq='D'), Timestamp('2022-03-31 00:00:00', freq='D'), Timestamp('2022-04-01 00:00:00', freq='D'), Timestamp('2022-04-02 00:00:00', freq='D'), Timestamp('2022-04-03 00:00:00', freq='D'), Timestamp('2022-04-04 00:00:00', freq='D'), Timestamp('2022-04-05 00:00:00', freq='D'), Timestamp('2022-04-06 00:00:00', freq='D'), Timestamp('2022-04-07 00:00:00', freq='D'), Timestamp('2022-04-08 00:00:00', freq='D'), Timestamp('2022-04-09 00:00:00', freq='D'), Timestamp('2022-04-10 00:00:00', freq='D'), Timestamp('2022-04-11 00:00:00', freq='D'), Timestamp('2022-04-12 00:00:00', freq='D'), Timestamp('2022-04-13 00:00:00', freq='D'), Timestamp('2022-04-14 00:00:00', freq='D'), Timestamp('2022-04-15 00:00:00', freq='D'), Timestamp('2022-04-16 00:00:00', freq='D'), Timestamp('2022-04-17 00:00:00', freq='D'), Timestamp('2022-04-18 00:00:00', freq='D'), Timestamp('2022-04-19 00:00:00', freq='D'), Timestamp('2022-04-20 00:00:00', freq='D'), Timestamp('2022-04-21 00:00:00', freq='D'), Timestamp('2022-04-22 00:00:00', freq='D'), Timestamp('2022-04-23 00:00:00', freq='D'), Timestamp('2022-04-24 00:00:00', freq='D'), Timestamp('2022-04-25 00:00:00', freq='D'), Timestamp('2022-04-26 00:00:00', freq='D'), Timestamp('2022-04-27 00:00:00', freq='D'), Timestamp('2022-04-28 00:00:00', freq='D'), Timestamp('2022-04-29 00:00:00', freq='D'), Timestamp('2022-04-30 00:00:00', freq='D'), Timestamp('2022-05-01 00:00:00', freq='D'), Timestamp('2022-05-02 00:00:00', freq='D'), Timestamp('2022-05-03 00:00:00', freq='D'), Timestamp('2022-05-04 00:00:00', freq='D'), Timestamp('2022-05-05 00:00:00', freq='D'), Timestamp('2022-05-06 00:00:00', freq='D'), Timestamp('2022-05-07 00:00:00', freq='D'), Timestamp('2022-05-08 00:00:00', freq='D'), Timestamp('2022-05-09 00:00:00', freq='D'), Timestamp('2022-05-10 00:00:00', freq='D'), Timestamp('2022-05-11 00:00:00', freq='D'), Timestamp('2022-05-12 00:00:00', freq='D'), Timestamp('2022-05-13 00:00:00', freq='D'), Timestamp('2022-05-14 00:00:00', freq='D'), Timestamp('2022-05-15 00:00:00', freq='D'), Timestamp('2022-05-16 00:00:00', freq='D'), Timestamp('2022-05-17 00:00:00', freq='D'), Timestamp('2022-05-18 00:00:00', freq='D'), Timestamp('2022-05-19 00:00:00', freq='D'), Timestamp('2022-05-20 00:00:00', freq='D'), Timestamp('2022-05-21 00:00:00', freq='D'), Timestamp('2022-05-22 00:00:00', freq='D')]\n"
          ],
          "name": "stdout"
        }
      ]
    },
    {
      "cell_type": "code",
      "metadata": {
        "id": "_IGYAn-P140G"
      },
      "source": [
        "forecast = model.predict(trainX[-n_future:])"
      ],
      "execution_count": 102,
      "outputs": []
    },
    {
      "cell_type": "code",
      "metadata": {
        "id": "nX6EMRQj23gB"
      },
      "source": [
        "#Perform inverse transformation to rescale back to original range\n",
        "#Since we used 5 variables for transform, the inverse expects same dimensions\n",
        "#Therefore, just copy the values 5 times and discard them after inverse transform\n",
        "forecast_copies = np.repeat(forecast, df_cols.shape[1], axis=-1)\n",
        "y_pred_future = scaler.inverse_transform(forecast_copies)[:,0]"
      ],
      "execution_count": 103,
      "outputs": []
    },
    {
      "cell_type": "code",
      "metadata": {
        "id": "w2ewtkCL3xmd"
      },
      "source": [
        "#Convert timestamp to date\n",
        "forecast_dates = []\n",
        "for time_i in forecast_period_dates:\n",
        "  forecast_dates.append(time_i.date())"
      ],
      "execution_count": 104,
      "outputs": []
    },
    {
      "cell_type": "code",
      "metadata": {
        "colab": {
          "base_uri": "https://localhost:8080/"
        },
        "id": "hF1c9Eip4oOl",
        "outputId": "53b8b29d-111c-4535-c946-447d120d2b42"
      },
      "source": [
        "df_forecast = pd.DataFrame({'Date':np.array(forecast_dates), 'Open':y_pred_future})\n",
        "df_forecast['Date'] = pd.to_datetime(df_forecast['Date'])\n",
        "\n",
        "print('5 Baris Teratas:\\n', df_forecast.head())\n",
        "print('\\n5 Baris Terbawah:\\n', df_forecast.tail())\n",
        "print('\\nShape Dataset:\\n', df_forecast.shape)"
      ],
      "execution_count": 105,
      "outputs": [
        {
          "output_type": "stream",
          "text": [
            "5 Baris Teratas:\n",
            "         Date          Open\n",
            "0 2021-05-28  14913.015625\n",
            "1 2021-05-29  14965.513672\n",
            "2 2021-05-30  15017.748047\n",
            "3 2021-05-31  15063.517578\n",
            "4 2021-06-01  15100.078125\n",
            "\n",
            "5 Baris Terbawah:\n",
            "           Date          Open\n",
            "355 2022-05-18  19905.191406\n",
            "356 2022-05-19  19924.875000\n",
            "357 2022-05-20  19934.314453\n",
            "358 2022-05-21  19950.966797\n",
            "359 2022-05-22  19969.701172\n",
            "\n",
            "Shape Dataset:\n",
            " (360, 2)\n"
          ],
          "name": "stdout"
        }
      ]
    },
    {
      "cell_type": "code",
      "metadata": {
        "colab": {
          "base_uri": "https://localhost:8080/"
        },
        "id": "WFwuVzGC7Pr7",
        "outputId": "c7d9ffa2-1eec-475a-9df0-b97e9f594059"
      },
      "source": [
        "original = df_NYA[['Date', 'Open']]\n",
        "original['Date'] = pd.to_datetime(original['Date'])\n",
        "original = original.loc[original['Date'] >= '2020-06-01']\n",
        "\n",
        "print('5 Baris Teratas:\\n', original.head())\n",
        "print('\\n5 Baris Terbawah:\\n', original.tail())\n",
        "print('\\nShape Dataset:\\n', original.shape)"
      ],
      "execution_count": 108,
      "outputs": [
        {
          "output_type": "stream",
          "text": [
            "5 Baris Teratas:\n",
            "             Date         Open\n",
            "22187 2020-06-01  11799.91992\n",
            "22188 2020-06-02  11900.24023\n",
            "22189 2020-06-03  12175.05957\n",
            "22190 2020-06-04  12236.74023\n",
            "22191 2020-06-05  12640.98047\n",
            "\n",
            "5 Baris Terbawah:\n",
            "             Date         Open\n",
            "22434 2021-05-24  16375.00000\n",
            "22435 2021-05-25  16464.68945\n",
            "22436 2021-05-26  16390.18945\n",
            "22437 2021-05-27  16451.96094\n",
            "22438 2021-05-28  16531.94922\n",
            "\n",
            "Shape Dataset:\n",
            " (252, 2)\n"
          ],
          "name": "stdout"
        },
        {
          "output_type": "stream",
          "text": [
            "/usr/local/lib/python3.7/dist-packages/ipykernel_launcher.py:2: SettingWithCopyWarning: \n",
            "A value is trying to be set on a copy of a slice from a DataFrame.\n",
            "Try using .loc[row_indexer,col_indexer] = value instead\n",
            "\n",
            "See the caveats in the documentation: https://pandas.pydata.org/pandas-docs/stable/user_guide/indexing.html#returning-a-view-versus-a-copy\n",
            "  \n"
          ],
          "name": "stderr"
        }
      ]
    },
    {
      "cell_type": "code",
      "metadata": {
        "colab": {
          "base_uri": "https://localhost:8080/",
          "height": 459
        },
        "id": "da5MgaDJ9B4A",
        "outputId": "b00f19cd-4c54-4cd2-ec1a-8f15aa9c9328"
      },
      "source": [
        "fig, ax = plt.subplots(figsize = (15, 7))\n",
        "\n",
        "sns.lineplot(ax = ax, x='Date', y='Open', data=original)\n",
        "sns.lineplot(ax = ax, x='Date', y='Open', data=df_forecast)\n",
        "plt.legend(labels=[\"Actual\",\"Prediction\"])"
      ],
      "execution_count": 116,
      "outputs": [
        {
          "output_type": "execute_result",
          "data": {
            "text/plain": [
              "<matplotlib.legend.Legend at 0x7f0819936bd0>"
            ]
          },
          "metadata": {
            "tags": []
          },
          "execution_count": 116
        },
        {
          "output_type": "display_data",
          "data": {
            "image/png": "[encoded data removed]",
            "text/plain": [
              "<Figure size 1080x504 with 1 Axes>"
            ]
          },
          "metadata": {
            "tags": [],
            "needs_background": "light"
          }
        }
      ]
    }
  ]
}