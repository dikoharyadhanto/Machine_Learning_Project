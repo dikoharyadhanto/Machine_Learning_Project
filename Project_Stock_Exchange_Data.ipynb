{
  "nbformat": 4,
  "nbformat_minor": 0,
  "metadata": {
    "colab": {
      "name": "Project - Stock Exchange Data.ipynb",
      "provenance": [],
      "collapsed_sections": [],
      "authorship_tag": "ABX9TyPd61/ff/mBW89hL7EdMO32",
      "include_colab_link": true
    },
    "kernelspec": {
      "name": "python3",
      "display_name": "Python 3"
    },
    "language_info": {
      "name": "python"
    }
  },
  "cells": [
    {
      "cell_type": "markdown",
      "metadata": {
        "id": "view-in-github",
        "colab_type": "text"
      },
      "source": [
        "<a href=\"https://colab.research.google.com/github/dikoharyadhanto/Machine_Learning_Project/blob/main/Project_Stock_Exchange_Data.ipynb\" target=\"_parent\"><img src=\"https://colab.research.google.com/assets/colab-badge.svg\" alt=\"Open In Colab\"/></a>"
      ]
    },
    {
      "cell_type": "code",
      "metadata": {
        "id": "qj8Qbs3HQzWB"
      },
      "source": [
        "import os\n",
        "os.environ['KAGGLE_CONFIG_DIR'] = '/content'"
      ],
      "execution_count": 3,
      "outputs": []
    },
    {
      "cell_type": "code",
      "metadata": {
        "colab": {
          "base_uri": "https://localhost:8080/"
        },
        "id": "iMu5nZGsQ0FI",
        "outputId": "37ebb0da-6148-4ea1-97e6-2da0a58f5c0a"
      },
      "source": [
        "!kaggle datasets download -d mattiuzc/stock-exchange-data"
      ],
      "execution_count": 4,
      "outputs": [
        {
          "output_type": "stream",
          "text": [
            "Warning: Your Kaggle API key is readable by other users on this system! To fix this, you can run 'chmod 600 /content/kaggle.json'\n",
            "Downloading stock-exchange-data.zip to /content\n",
            "  0% 0.00/4.56M [00:00<?, ?B/s]\n",
            "100% 4.56M/4.56M [00:00<00:00, 74.9MB/s]\n"
          ],
          "name": "stdout"
        }
      ]
    },
    {
      "cell_type": "code",
      "metadata": {
        "id": "yc_SDXbxRco9"
      },
      "source": [
        "!unzip -q stock-exchange-data.zip -d ."
      ],
      "execution_count": 5,
      "outputs": []
    },
    {
      "cell_type": "markdown",
      "metadata": {
        "id": "lNWFYpgKFIfV"
      },
      "source": [
        "# **Data Preprocessing**"
      ]
    },
    {
      "cell_type": "code",
      "metadata": {
        "id": "5cTrObp991wd"
      },
      "source": [
        "import numpy as np\n",
        "import pandas as pd\n",
        "from keras.layers import Dense, LSTM, Dropout\n",
        "import matplotlib.pyplot as plt\n",
        "import tensorflow as tf\n",
        "from sklearn.model_selection import train_test_split\n",
        "from sklearn.preprocessing import StandardScaler\n",
        "import seaborn as sns"
      ],
      "execution_count": null,
      "outputs": []
    },
    {
      "cell_type": "code",
      "metadata": {
        "colab": {
          "base_uri": "https://localhost:8080/",
          "height": 483
        },
        "id": "QhKXJy9D-Snd",
        "outputId": "9ebf03af-34a6-4c75-fe23-3dd61f9ca77b"
      },
      "source": [
        "#Read IndexInfo\n",
        "dataset_info = pd.read_csv('indexInfo.csv')\n",
        "dataset_info.head(14)"
      ],
      "execution_count": null,
      "outputs": [
        {
          "output_type": "execute_result",
          "data": {
            "text/html": [
              "<div>\n",
              "<style scoped>\n",
              "    .dataframe tbody tr th:only-of-type {\n",
              "        vertical-align: middle;\n",
              "    }\n",
              "\n",
              "    .dataframe tbody tr th {\n",
              "        vertical-align: top;\n",
              "    }\n",
              "\n",
              "    .dataframe thead th {\n",
              "        text-align: right;\n",
              "    }\n",
              "</style>\n",
              "<table border=\"1\" class=\"dataframe\">\n",
              "  <thead>\n",
              "    <tr style=\"text-align: right;\">\n",
              "      <th></th>\n",
              "      <th>Region</th>\n",
              "      <th>Exchange</th>\n",
              "      <th>Index</th>\n",
              "      <th>Currency</th>\n",
              "    </tr>\n",
              "  </thead>\n",
              "  <tbody>\n",
              "    <tr>\n",
              "      <th>0</th>\n",
              "      <td>United States</td>\n",
              "      <td>New York Stock Exchange</td>\n",
              "      <td>NYA</td>\n",
              "      <td>USD</td>\n",
              "    </tr>\n",
              "    <tr>\n",
              "      <th>1</th>\n",
              "      <td>United States</td>\n",
              "      <td>NASDAQ</td>\n",
              "      <td>IXIC</td>\n",
              "      <td>USD</td>\n",
              "    </tr>\n",
              "    <tr>\n",
              "      <th>2</th>\n",
              "      <td>Hong Kong</td>\n",
              "      <td>Hong Kong Stock Exchange</td>\n",
              "      <td>HSI</td>\n",
              "      <td>HKD</td>\n",
              "    </tr>\n",
              "    <tr>\n",
              "      <th>3</th>\n",
              "      <td>China</td>\n",
              "      <td>Shanghai Stock Exchange</td>\n",
              "      <td>000001.SS</td>\n",
              "      <td>CNY</td>\n",
              "    </tr>\n",
              "    <tr>\n",
              "      <th>4</th>\n",
              "      <td>Japan</td>\n",
              "      <td>Tokyo Stock Exchange</td>\n",
              "      <td>N225</td>\n",
              "      <td>JPY</td>\n",
              "    </tr>\n",
              "    <tr>\n",
              "      <th>5</th>\n",
              "      <td>Europe</td>\n",
              "      <td>Euronext</td>\n",
              "      <td>N100</td>\n",
              "      <td>EUR</td>\n",
              "    </tr>\n",
              "    <tr>\n",
              "      <th>6</th>\n",
              "      <td>China</td>\n",
              "      <td>Shenzhen Stock Exchange</td>\n",
              "      <td>399001.SZ</td>\n",
              "      <td>CNY</td>\n",
              "    </tr>\n",
              "    <tr>\n",
              "      <th>7</th>\n",
              "      <td>Canada</td>\n",
              "      <td>Toronto Stock Exchange</td>\n",
              "      <td>GSPTSE</td>\n",
              "      <td>CAD</td>\n",
              "    </tr>\n",
              "    <tr>\n",
              "      <th>8</th>\n",
              "      <td>India</td>\n",
              "      <td>National Stock Exchange of India</td>\n",
              "      <td>NSEI</td>\n",
              "      <td>INR</td>\n",
              "    </tr>\n",
              "    <tr>\n",
              "      <th>9</th>\n",
              "      <td>Germany</td>\n",
              "      <td>Frankfurt Stock Exchange</td>\n",
              "      <td>GDAXI</td>\n",
              "      <td>EUR</td>\n",
              "    </tr>\n",
              "    <tr>\n",
              "      <th>10</th>\n",
              "      <td>Korea</td>\n",
              "      <td>Korea Exchange</td>\n",
              "      <td>KS11</td>\n",
              "      <td>KRW</td>\n",
              "    </tr>\n",
              "    <tr>\n",
              "      <th>11</th>\n",
              "      <td>Switzerland</td>\n",
              "      <td>SIX Swiss Exchange</td>\n",
              "      <td>SSMI</td>\n",
              "      <td>CHF</td>\n",
              "    </tr>\n",
              "    <tr>\n",
              "      <th>12</th>\n",
              "      <td>Taiwan</td>\n",
              "      <td>Taiwan Stock Exchange</td>\n",
              "      <td>TWII</td>\n",
              "      <td>TWD</td>\n",
              "    </tr>\n",
              "    <tr>\n",
              "      <th>13</th>\n",
              "      <td>South Africa</td>\n",
              "      <td>Johannesburg Stock Exchange</td>\n",
              "      <td>J203.JO</td>\n",
              "      <td>ZAR</td>\n",
              "    </tr>\n",
              "  </tbody>\n",
              "</table>\n",
              "</div>"
            ],
            "text/plain": [
              "           Region                          Exchange      Index Currency\n",
              "0   United States           New York Stock Exchange        NYA      USD\n",
              "1   United States                            NASDAQ       IXIC      USD\n",
              "2       Hong Kong          Hong Kong Stock Exchange        HSI      HKD\n",
              "3           China           Shanghai Stock Exchange  000001.SS      CNY\n",
              "4           Japan              Tokyo Stock Exchange       N225      JPY\n",
              "5          Europe                          Euronext       N100      EUR\n",
              "6           China           Shenzhen Stock Exchange  399001.SZ      CNY\n",
              "7          Canada            Toronto Stock Exchange     GSPTSE      CAD\n",
              "8           India  National Stock Exchange of India       NSEI      INR\n",
              "9         Germany          Frankfurt Stock Exchange      GDAXI      EUR\n",
              "10          Korea                    Korea Exchange       KS11      KRW\n",
              "11    Switzerland                SIX Swiss Exchange       SSMI      CHF\n",
              "12         Taiwan             Taiwan Stock Exchange       TWII      TWD\n",
              "13   South Africa       Johannesburg Stock Exchange    J203.JO      ZAR"
            ]
          },
          "metadata": {
            "tags": []
          },
          "execution_count": 3
        }
      ]
    },
    {
      "cell_type": "code",
      "metadata": {
        "colab": {
          "base_uri": "https://localhost:8080/",
          "height": 204
        },
        "id": "GMRD92zP93rd",
        "outputId": "9005d4a8-c386-4ff7-be01-bd2fec8ad666"
      },
      "source": [
        "#Read IndexProcessed\n",
        "df = pd.read_csv('indexProcessed.csv')\n",
        "df.head()"
      ],
      "execution_count": null,
      "outputs": [
        {
          "output_type": "execute_result",
          "data": {
            "text/html": [
              "<div>\n",
              "<style scoped>\n",
              "    .dataframe tbody tr th:only-of-type {\n",
              "        vertical-align: middle;\n",
              "    }\n",
              "\n",
              "    .dataframe tbody tr th {\n",
              "        vertical-align: top;\n",
              "    }\n",
              "\n",
              "    .dataframe thead th {\n",
              "        text-align: right;\n",
              "    }\n",
              "</style>\n",
              "<table border=\"1\" class=\"dataframe\">\n",
              "  <thead>\n",
              "    <tr style=\"text-align: right;\">\n",
              "      <th></th>\n",
              "      <th>Index</th>\n",
              "      <th>Date</th>\n",
              "      <th>Open</th>\n",
              "      <th>High</th>\n",
              "      <th>Low</th>\n",
              "      <th>Close</th>\n",
              "      <th>Adj Close</th>\n",
              "      <th>Volume</th>\n",
              "      <th>CloseUSD</th>\n",
              "    </tr>\n",
              "  </thead>\n",
              "  <tbody>\n",
              "    <tr>\n",
              "      <th>0</th>\n",
              "      <td>HSI</td>\n",
              "      <td>1986-12-31</td>\n",
              "      <td>2568.300049</td>\n",
              "      <td>2568.300049</td>\n",
              "      <td>2568.300049</td>\n",
              "      <td>2568.300049</td>\n",
              "      <td>2568.300049</td>\n",
              "      <td>0.0</td>\n",
              "      <td>333.879006</td>\n",
              "    </tr>\n",
              "    <tr>\n",
              "      <th>1</th>\n",
              "      <td>HSI</td>\n",
              "      <td>1987-01-02</td>\n",
              "      <td>2540.100098</td>\n",
              "      <td>2540.100098</td>\n",
              "      <td>2540.100098</td>\n",
              "      <td>2540.100098</td>\n",
              "      <td>2540.100098</td>\n",
              "      <td>0.0</td>\n",
              "      <td>330.213013</td>\n",
              "    </tr>\n",
              "    <tr>\n",
              "      <th>2</th>\n",
              "      <td>HSI</td>\n",
              "      <td>1987-01-05</td>\n",
              "      <td>2552.399902</td>\n",
              "      <td>2552.399902</td>\n",
              "      <td>2552.399902</td>\n",
              "      <td>2552.399902</td>\n",
              "      <td>2552.399902</td>\n",
              "      <td>0.0</td>\n",
              "      <td>331.811987</td>\n",
              "    </tr>\n",
              "    <tr>\n",
              "      <th>3</th>\n",
              "      <td>HSI</td>\n",
              "      <td>1987-01-06</td>\n",
              "      <td>2583.899902</td>\n",
              "      <td>2583.899902</td>\n",
              "      <td>2583.899902</td>\n",
              "      <td>2583.899902</td>\n",
              "      <td>2583.899902</td>\n",
              "      <td>0.0</td>\n",
              "      <td>335.906987</td>\n",
              "    </tr>\n",
              "    <tr>\n",
              "      <th>4</th>\n",
              "      <td>HSI</td>\n",
              "      <td>1987-01-07</td>\n",
              "      <td>2607.100098</td>\n",
              "      <td>2607.100098</td>\n",
              "      <td>2607.100098</td>\n",
              "      <td>2607.100098</td>\n",
              "      <td>2607.100098</td>\n",
              "      <td>0.0</td>\n",
              "      <td>338.923013</td>\n",
              "    </tr>\n",
              "  </tbody>\n",
              "</table>\n",
              "</div>"
            ],
            "text/plain": [
              "  Index        Date         Open  ...    Adj Close  Volume    CloseUSD\n",
              "0   HSI  1986-12-31  2568.300049  ...  2568.300049     0.0  333.879006\n",
              "1   HSI  1987-01-02  2540.100098  ...  2540.100098     0.0  330.213013\n",
              "2   HSI  1987-01-05  2552.399902  ...  2552.399902     0.0  331.811987\n",
              "3   HSI  1987-01-06  2583.899902  ...  2583.899902     0.0  335.906987\n",
              "4   HSI  1987-01-07  2607.100098  ...  2607.100098     0.0  338.923013\n",
              "\n",
              "[5 rows x 9 columns]"
            ]
          },
          "metadata": {
            "tags": []
          },
          "execution_count": 4
        }
      ]
    },
    {
      "cell_type": "code",
      "metadata": {
        "colab": {
          "base_uri": "https://localhost:8080/"
        },
        "id": "mUG_6lzH_BOe",
        "outputId": "69b144e0-1cf5-4344-9511-984e6d9513e6"
      },
      "source": [
        "#Info Dataset\n",
        "df.info()"
      ],
      "execution_count": null,
      "outputs": [
        {
          "output_type": "stream",
          "text": [
            "<class 'pandas.core.frame.DataFrame'>\n",
            "RangeIndex: 104224 entries, 0 to 104223\n",
            "Data columns (total 9 columns):\n",
            " #   Column     Non-Null Count   Dtype  \n",
            "---  ------     --------------   -----  \n",
            " 0   Index      104224 non-null  object \n",
            " 1   Date       104224 non-null  object \n",
            " 2   Open       104224 non-null  float64\n",
            " 3   High       104224 non-null  float64\n",
            " 4   Low        104224 non-null  float64\n",
            " 5   Close      104224 non-null  float64\n",
            " 6   Adj Close  104224 non-null  float64\n",
            " 7   Volume     104224 non-null  float64\n",
            " 8   CloseUSD   104224 non-null  float64\n",
            "dtypes: float64(7), object(2)\n",
            "memory usage: 7.2+ MB\n"
          ],
          "name": "stdout"
        }
      ]
    },
    {
      "cell_type": "code",
      "metadata": {
        "colab": {
          "base_uri": "https://localhost:8080/",
          "height": 779
        },
        "id": "ruLFWSglET0R",
        "outputId": "f3ace612-d53c-475f-bcfa-9e51a9ca6555"
      },
      "source": [
        "#Merge IndexInfo and IndexProcessed\n",
        "df = df.merge(dataset_info, on='Index')\n",
        "df"
      ],
      "execution_count": null,
      "outputs": [
        {
          "output_type": "execute_result",
          "data": {
            "text/html": [
              "<div>\n",
              "<style scoped>\n",
              "    .dataframe tbody tr th:only-of-type {\n",
              "        vertical-align: middle;\n",
              "    }\n",
              "\n",
              "    .dataframe tbody tr th {\n",
              "        vertical-align: top;\n",
              "    }\n",
              "\n",
              "    .dataframe thead th {\n",
              "        text-align: right;\n",
              "    }\n",
              "</style>\n",
              "<table border=\"1\" class=\"dataframe\">\n",
              "  <thead>\n",
              "    <tr style=\"text-align: right;\">\n",
              "      <th></th>\n",
              "      <th>Index</th>\n",
              "      <th>Date</th>\n",
              "      <th>Open</th>\n",
              "      <th>High</th>\n",
              "      <th>Low</th>\n",
              "      <th>Close</th>\n",
              "      <th>Adj Close</th>\n",
              "      <th>Volume</th>\n",
              "      <th>CloseUSD</th>\n",
              "      <th>Region</th>\n",
              "      <th>Exchange</th>\n",
              "      <th>Currency</th>\n",
              "    </tr>\n",
              "  </thead>\n",
              "  <tbody>\n",
              "    <tr>\n",
              "      <th>0</th>\n",
              "      <td>HSI</td>\n",
              "      <td>1986-12-31</td>\n",
              "      <td>2568.300049</td>\n",
              "      <td>2568.300049</td>\n",
              "      <td>2568.300049</td>\n",
              "      <td>2568.300049</td>\n",
              "      <td>2568.300049</td>\n",
              "      <td>0.0</td>\n",
              "      <td>333.879006</td>\n",
              "      <td>Hong Kong</td>\n",
              "      <td>Hong Kong Stock Exchange</td>\n",
              "      <td>HKD</td>\n",
              "    </tr>\n",
              "    <tr>\n",
              "      <th>1</th>\n",
              "      <td>HSI</td>\n",
              "      <td>1987-01-02</td>\n",
              "      <td>2540.100098</td>\n",
              "      <td>2540.100098</td>\n",
              "      <td>2540.100098</td>\n",
              "      <td>2540.100098</td>\n",
              "      <td>2540.100098</td>\n",
              "      <td>0.0</td>\n",
              "      <td>330.213013</td>\n",
              "      <td>Hong Kong</td>\n",
              "      <td>Hong Kong Stock Exchange</td>\n",
              "      <td>HKD</td>\n",
              "    </tr>\n",
              "    <tr>\n",
              "      <th>2</th>\n",
              "      <td>HSI</td>\n",
              "      <td>1987-01-05</td>\n",
              "      <td>2552.399902</td>\n",
              "      <td>2552.399902</td>\n",
              "      <td>2552.399902</td>\n",
              "      <td>2552.399902</td>\n",
              "      <td>2552.399902</td>\n",
              "      <td>0.0</td>\n",
              "      <td>331.811987</td>\n",
              "      <td>Hong Kong</td>\n",
              "      <td>Hong Kong Stock Exchange</td>\n",
              "      <td>HKD</td>\n",
              "    </tr>\n",
              "    <tr>\n",
              "      <th>3</th>\n",
              "      <td>HSI</td>\n",
              "      <td>1987-01-06</td>\n",
              "      <td>2583.899902</td>\n",
              "      <td>2583.899902</td>\n",
              "      <td>2583.899902</td>\n",
              "      <td>2583.899902</td>\n",
              "      <td>2583.899902</td>\n",
              "      <td>0.0</td>\n",
              "      <td>335.906987</td>\n",
              "      <td>Hong Kong</td>\n",
              "      <td>Hong Kong Stock Exchange</td>\n",
              "      <td>HKD</td>\n",
              "    </tr>\n",
              "    <tr>\n",
              "      <th>4</th>\n",
              "      <td>HSI</td>\n",
              "      <td>1987-01-07</td>\n",
              "      <td>2607.100098</td>\n",
              "      <td>2607.100098</td>\n",
              "      <td>2607.100098</td>\n",
              "      <td>2607.100098</td>\n",
              "      <td>2607.100098</td>\n",
              "      <td>0.0</td>\n",
              "      <td>338.923013</td>\n",
              "      <td>Hong Kong</td>\n",
              "      <td>Hong Kong Stock Exchange</td>\n",
              "      <td>HKD</td>\n",
              "    </tr>\n",
              "    <tr>\n",
              "      <th>...</th>\n",
              "      <td>...</td>\n",
              "      <td>...</td>\n",
              "      <td>...</td>\n",
              "      <td>...</td>\n",
              "      <td>...</td>\n",
              "      <td>...</td>\n",
              "      <td>...</td>\n",
              "      <td>...</td>\n",
              "      <td>...</td>\n",
              "      <td>...</td>\n",
              "      <td>...</td>\n",
              "      <td>...</td>\n",
              "    </tr>\n",
              "    <tr>\n",
              "      <th>104219</th>\n",
              "      <td>J203.JO</td>\n",
              "      <td>2021-05-25</td>\n",
              "      <td>66054.921880</td>\n",
              "      <td>66812.453130</td>\n",
              "      <td>66022.976560</td>\n",
              "      <td>66076.679690</td>\n",
              "      <td>66076.679690</td>\n",
              "      <td>0.0</td>\n",
              "      <td>4625.367578</td>\n",
              "      <td>South Africa</td>\n",
              "      <td>Johannesburg Stock Exchange</td>\n",
              "      <td>ZAR</td>\n",
              "    </tr>\n",
              "    <tr>\n",
              "      <th>104220</th>\n",
              "      <td>J203.JO</td>\n",
              "      <td>2021-05-26</td>\n",
              "      <td>66076.679690</td>\n",
              "      <td>66446.367190</td>\n",
              "      <td>66030.351560</td>\n",
              "      <td>66108.226560</td>\n",
              "      <td>66108.226560</td>\n",
              "      <td>0.0</td>\n",
              "      <td>4627.575859</td>\n",
              "      <td>South Africa</td>\n",
              "      <td>Johannesburg Stock Exchange</td>\n",
              "      <td>ZAR</td>\n",
              "    </tr>\n",
              "    <tr>\n",
              "      <th>104221</th>\n",
              "      <td>J203.JO</td>\n",
              "      <td>2021-05-27</td>\n",
              "      <td>66108.226560</td>\n",
              "      <td>66940.250000</td>\n",
              "      <td>66102.546880</td>\n",
              "      <td>66940.250000</td>\n",
              "      <td>66940.250000</td>\n",
              "      <td>0.0</td>\n",
              "      <td>4685.817500</td>\n",
              "      <td>South Africa</td>\n",
              "      <td>Johannesburg Stock Exchange</td>\n",
              "      <td>ZAR</td>\n",
              "    </tr>\n",
              "    <tr>\n",
              "      <th>104222</th>\n",
              "      <td>J203.JO</td>\n",
              "      <td>2021-05-28</td>\n",
              "      <td>66940.250000</td>\n",
              "      <td>67726.562500</td>\n",
              "      <td>66794.609380</td>\n",
              "      <td>67554.859380</td>\n",
              "      <td>67554.859380</td>\n",
              "      <td>0.0</td>\n",
              "      <td>4728.840157</td>\n",
              "      <td>South Africa</td>\n",
              "      <td>Johannesburg Stock Exchange</td>\n",
              "      <td>ZAR</td>\n",
              "    </tr>\n",
              "    <tr>\n",
              "      <th>104223</th>\n",
              "      <td>J203.JO</td>\n",
              "      <td>2021-05-31</td>\n",
              "      <td>67554.859380</td>\n",
              "      <td>68140.851560</td>\n",
              "      <td>67554.859380</td>\n",
              "      <td>67964.039060</td>\n",
              "      <td>67964.039060</td>\n",
              "      <td>0.0</td>\n",
              "      <td>4757.482734</td>\n",
              "      <td>South Africa</td>\n",
              "      <td>Johannesburg Stock Exchange</td>\n",
              "      <td>ZAR</td>\n",
              "    </tr>\n",
              "  </tbody>\n",
              "</table>\n",
              "<p>104224 rows × 12 columns</p>\n",
              "</div>"
            ],
            "text/plain": [
              "          Index        Date  ...                     Exchange  Currency\n",
              "0           HSI  1986-12-31  ...     Hong Kong Stock Exchange       HKD\n",
              "1           HSI  1987-01-02  ...     Hong Kong Stock Exchange       HKD\n",
              "2           HSI  1987-01-05  ...     Hong Kong Stock Exchange       HKD\n",
              "3           HSI  1987-01-06  ...     Hong Kong Stock Exchange       HKD\n",
              "4           HSI  1987-01-07  ...     Hong Kong Stock Exchange       HKD\n",
              "...         ...         ...  ...                          ...       ...\n",
              "104219  J203.JO  2021-05-25  ...  Johannesburg Stock Exchange       ZAR\n",
              "104220  J203.JO  2021-05-26  ...  Johannesburg Stock Exchange       ZAR\n",
              "104221  J203.JO  2021-05-27  ...  Johannesburg Stock Exchange       ZAR\n",
              "104222  J203.JO  2021-05-28  ...  Johannesburg Stock Exchange       ZAR\n",
              "104223  J203.JO  2021-05-31  ...  Johannesburg Stock Exchange       ZAR\n",
              "\n",
              "[104224 rows x 12 columns]"
            ]
          },
          "metadata": {
            "tags": []
          },
          "execution_count": 6
        }
      ]
    },
    {
      "cell_type": "code",
      "metadata": {
        "colab": {
          "base_uri": "https://localhost:8080/"
        },
        "id": "qVuGt868EpLV",
        "outputId": "62679265-8561-42ca-c27d-dbf3e14e46dc"
      },
      "source": [
        "#Convert Data Types\n",
        "df['Date'] = pd.to_datetime(df['Date'])\n",
        "df['Index'] = df['Index'].astype('category')\n",
        "df['Region'] = df['Region'].astype('category')\n",
        "df['Exchange'] = df['Exchange'].astype('category')\n",
        "df['Currency'] = df['Currency'].astype('category')\n",
        "\n",
        "print(df.dtypes)"
      ],
      "execution_count": null,
      "outputs": [
        {
          "output_type": "stream",
          "text": [
            "Index              category\n",
            "Date         datetime64[ns]\n",
            "Open                float64\n",
            "High                float64\n",
            "Low                 float64\n",
            "Close               float64\n",
            "Adj Close           float64\n",
            "Volume              float64\n",
            "CloseUSD            float64\n",
            "Region             category\n",
            "Exchange           category\n",
            "Currency           category\n",
            "dtype: object\n"
          ],
          "name": "stdout"
        }
      ]
    },
    {
      "cell_type": "code",
      "metadata": {
        "colab": {
          "base_uri": "https://localhost:8080/"
        },
        "id": "xeg-M_YzE7oc",
        "outputId": "ea866c99-bf3c-4bca-e957-6a72fcc62cec"
      },
      "source": [
        "#Checking Missing Values\n",
        "df.isnull().sum()"
      ],
      "execution_count": null,
      "outputs": [
        {
          "output_type": "execute_result",
          "data": {
            "text/plain": [
              "Index        0\n",
              "Date         0\n",
              "Open         0\n",
              "High         0\n",
              "Low          0\n",
              "Close        0\n",
              "Adj Close    0\n",
              "Volume       0\n",
              "CloseUSD     0\n",
              "Region       0\n",
              "Exchange     0\n",
              "Currency     0\n",
              "dtype: int64"
            ]
          },
          "metadata": {
            "tags": []
          },
          "execution_count": 8
        }
      ]
    },
    {
      "cell_type": "code",
      "metadata": {
        "colab": {
          "base_uri": "https://localhost:8080/"
        },
        "id": "5O3FI-AhQCm2",
        "outputId": "b7f46cb5-4b35-48cf-a17b-9b42b9e14452"
      },
      "source": [
        "#I just want to analyze the specific index, so for this case, I will just analyze 'NYA' Index\n",
        "df_NYA = df.loc[(df[\"Index\"] == 'NYA')]\n",
        "print('5 Baris Teratas:\\n', df_NYA.head())\n",
        "print('\\n5 Baris Terbawah:\\n', df_NYA.tail())\n",
        "print('\\nShape Dataset:\\n', df_NYA.shape)"
      ],
      "execution_count": null,
      "outputs": [
        {
          "output_type": "stream",
          "text": [
            "5 Baris Teratas:\n",
            "      Index       Date  ...                 Exchange  Currency\n",
            "8492   NYA 1965-12-31  ...  New York Stock Exchange       USD\n",
            "8493   NYA 1966-01-03  ...  New York Stock Exchange       USD\n",
            "8494   NYA 1966-01-04  ...  New York Stock Exchange       USD\n",
            "8495   NYA 1966-01-05  ...  New York Stock Exchange       USD\n",
            "8496   NYA 1966-01-06  ...  New York Stock Exchange       USD\n",
            "\n",
            "[5 rows x 12 columns]\n",
            "\n",
            "5 Baris Terbawah:\n",
            "       Index       Date  ...                 Exchange  Currency\n",
            "22434   NYA 2021-05-24  ...  New York Stock Exchange       USD\n",
            "22435   NYA 2021-05-25  ...  New York Stock Exchange       USD\n",
            "22436   NYA 2021-05-26  ...  New York Stock Exchange       USD\n",
            "22437   NYA 2021-05-27  ...  New York Stock Exchange       USD\n",
            "22438   NYA 2021-05-28  ...  New York Stock Exchange       USD\n",
            "\n",
            "[5 rows x 12 columns]\n",
            "\n",
            "Shape Dataset:\n",
            " (13947, 12)\n"
          ],
          "name": "stdout"
        }
      ]
    },
    {
      "cell_type": "code",
      "metadata": {
        "colab": {
          "base_uri": "https://localhost:8080/",
          "height": 341
        },
        "id": "ia7r1iA1BEeB",
        "outputId": "2f111cfc-3ab5-4a57-b1e6-9b688c1d4e9e"
      },
      "source": [
        "#Plotting dataset 'Open' and dates\n",
        "plt.figure(figsize=(15,5))\n",
        "plt.plot(df_NYA['Date'], df_NYA['Open'])\n",
        "plt.title('New York Open Stock Exchange in USA', fontsize=20);"
      ],
      "execution_count": null,
      "outputs": [
        {
          "output_type": "display_data",
          "data": {
            "image/png": "[encoded data removed]",
            "text/plain": [
              "<Figure size 1080x360 with 1 Axes>"
            ]
          },
          "metadata": {
            "tags": [],
            "needs_background": "light"
          }
        }
      ]
    },
    {
      "cell_type": "code",
      "metadata": {
        "colab": {
          "base_uri": "https://localhost:8080/"
        },
        "id": "AqClrjRG1GuV",
        "outputId": "32b7c653-25c9-40c1-90e4-322c273ad229"
      },
      "source": [
        "minMAE = (df_NYA['Open'].max() - df_NYA['Open'].min()) * (10/100)\n",
        "minMAE"
      ],
      "execution_count": null,
      "outputs": [
        {
          "output_type": "execute_result",
          "data": {
            "text/plain": [
              "1624.2659701000002"
            ]
          },
          "metadata": {
            "tags": []
          },
          "execution_count": 11
        }
      ]
    },
    {
      "cell_type": "code",
      "metadata": {
        "id": "mm0Alyya4L0K"
      },
      "source": [
        "#Variables for training\n",
        "cols = list(df_NYA)[2:7]\n",
        "\n",
        "df_cols = df_NYA[cols].astype(float)"
      ],
      "execution_count": null,
      "outputs": []
    },
    {
      "cell_type": "code",
      "metadata": {
        "id": "xUbUhrbJ7Ef_"
      },
      "source": [
        "#LSTM used sigmoid and tanh that are sensitive to magnitude so values need to be normalized\n",
        "#normalize the dataset\n",
        "scaler = StandardScaler()\n",
        "scaler = scaler.fit(df_cols)\n",
        "df_cols_scaled = scaler.transform(df_cols)"
      ],
      "execution_count": null,
      "outputs": []
    },
    {
      "cell_type": "code",
      "metadata": {
        "id": "8XIx-rjY4UKi"
      },
      "source": [
        "dates = df_NYA['Date'].values\n",
        "open = df_NYA['Open'].values"
      ],
      "execution_count": null,
      "outputs": []
    },
    {
      "cell_type": "code",
      "metadata": {
        "id": "tY7lcfkj7KsQ"
      },
      "source": [
        "dates = np.asarray(dates).astype('float32')\n",
        "open= np.asarray(open).astype('float32')"
      ],
      "execution_count": null,
      "outputs": []
    },
    {
      "cell_type": "code",
      "metadata": {
        "id": "IXOK0Ki2AITH"
      },
      "source": [
        "#As required for LSTM networks, require to reshape an input data into n_samples x timesteps\n",
        "#In this example, the n_features is 2. I will make timesteps = 3\n",
        "#With this, the resultant n_samples is 5 (as the input data has 9 rows)\n",
        "trainX = []\n",
        "trainY = []\n",
        "\n",
        "n_future = 1 #Number of days I want to predict into the future\n",
        "n_past = 14 # Number of past days I want to use to predict the future\n",
        "\n",
        "\n",
        "for i in range(n_past, len(df_for_training_scaled) - n_future+1):\n",
        "  trainX.append(df_for_training_scaled[i - n_past:i, 0:df_for_training.shape[1]])\n",
        "  trainY.append(df_for_training_scaled[i + n_future - 1:i + n_future,0])\n",
        "\n",
        "trainX, trainY = np.array(trainX), np.array(trainY)\n",
        "\n",
        "print('trainX shape == {}.'.format(trainX.shape)) #holding 14 days that are looking back and 5 variables that we got\n",
        "print('trainY shape == {}.'.format(trainY.shape)) # 1 is the day after n_past"
      ],
      "execution_count": null,
      "outputs": []
    },
    {
      "cell_type": "code",
      "metadata": {
        "colab": {
          "base_uri": "https://localhost:8080/"
        },
        "id": "ztVugCGQVxlt",
        "outputId": "2b78b7aa-bc60-4fe0-f265-3ebd928e1bc9"
      },
      "source": [
        " model = tf.keras.models.Sequential([\n",
        "                                     tf.keras.layers.LSTM(64, activation='relu', input_shape=(trainX.shape[1], trainX.shape[2]), return_sequences=True),\n",
        "                                     tf.keras.layers.LSTM(32, activation='relu', return_sequences=False),\n",
        "                                     tf.keras.layers.Dropout(0.2),\n",
        "                                     tf.keras.layers.Dense(32, activation=\"relu\"),\n",
        "                                     tf.keras.layers.Dense(trainY.shape[1])    \n",
        "                                   ])\n",
        " \n",
        "optimizer = tf.keras.optimizers.SGD(lr=1.0000e-04, momentum=0.9)\n",
        "\n",
        "model.compile(loss=tf.keras.losses.Huber(),\n",
        "              optimizer=optimizer,\n",
        "              metrics=[\"mae\"])\n",
        "  \n",
        "model.summary()"
      ],
      "execution_count": null,
      "outputs": [
        {
          "output_type": "stream",
          "text": [
            "Model: \"sequential_16\"\n",
            "_________________________________________________________________\n",
            "Layer (type)                 Output Shape              Param #   \n",
            "=================================================================\n",
            "lstm_49 (LSTM)               (None, 14, 64)            17920     \n",
            "_________________________________________________________________\n",
            "lstm_50 (LSTM)               (None, 32)                12416     \n",
            "_________________________________________________________________\n",
            "dropout_17 (Dropout)         (None, 32)                0         \n",
            "_________________________________________________________________\n",
            "dense_21 (Dense)             (None, 32)                1056      \n",
            "_________________________________________________________________\n",
            "dense_22 (Dense)             (None, 1)                 33        \n",
            "=================================================================\n",
            "Total params: 31,425\n",
            "Trainable params: 31,425\n",
            "Non-trainable params: 0\n",
            "_________________________________________________________________\n"
          ],
          "name": "stdout"
        },
        {
          "output_type": "stream",
          "text": [
            "/usr/local/lib/python3.7/dist-packages/tensorflow/python/keras/optimizer_v2/optimizer_v2.py:375: UserWarning: The `lr` argument is deprecated, use `learning_rate` instead.\n",
            "  \"The `lr` argument is deprecated, use `learning_rate` instead.\")\n"
          ],
          "name": "stderr"
        }
      ]
    },
    {
      "cell_type": "code",
      "metadata": {
        "id": "yf4qS8M6dMnk"
      },
      "source": [
        "#Membuat fungsi callback\n",
        "class myCallback(tf.keras.callbacks.Callback):\n",
        "  def on_epoch_end(self, epoch, logs={}):\n",
        "    if(logs.get('mae')<0.1):\n",
        "      print(\"\\nmae kurang dari 10%\")\n",
        "      self.model.stop_training = True\n",
        "callbacks = myCallback()"
      ],
      "execution_count": null,
      "outputs": []
    },
    {
      "cell_type": "code",
      "metadata": {
        "colab": {
          "base_uri": "https://localhost:8080/"
        },
        "id": "tXUjW-sNdqrK",
        "outputId": "4bd97cbe-a679-4ac6-be15-6cdc6d89a561"
      },
      "source": [
        "#Training Model\n",
        "history = model.fit(trainX, trainY, batch_size=16, validation_split=0.2, epochs=50, verbose=2, callbacks=[callbacks])"
      ],
      "execution_count": null,
      "outputs": [
        {
          "output_type": "stream",
          "text": [
            "Epoch 1/50\n",
            "697/697 - 11s - loss: 0.1854 - mae: 0.5531 - val_loss: 0.9369 - val_mae: 1.4322\n",
            "Epoch 2/50\n",
            "697/697 - 8s - loss: 0.0949 - mae: 0.3633 - val_loss: 0.6142 - val_mae: 1.0964\n",
            "Epoch 3/50\n",
            "697/697 - 9s - loss: 0.0469 - mae: 0.2370 - val_loss: 0.1306 - val_mae: 0.4986\n",
            "Epoch 4/50\n",
            "697/697 - 8s - loss: 0.0253 - mae: 0.1637 - val_loss: 0.0449 - val_mae: 0.2025\n",
            "Epoch 5/50\n",
            "697/697 - 8s - loss: 0.0204 - mae: 0.1439 - val_loss: 0.0720 - val_mae: 0.2314\n",
            "Epoch 6/50\n",
            "697/697 - 8s - loss: 0.0184 - mae: 0.1393 - val_loss: 0.0635 - val_mae: 0.2136\n",
            "Epoch 7/50\n",
            "697/697 - 8s - loss: 0.0165 - mae: 0.1329 - val_loss: 0.0586 - val_mae: 0.2024\n",
            "Epoch 8/50\n",
            "697/697 - 8s - loss: 0.0154 - mae: 0.1283 - val_loss: 0.0499 - val_mae: 0.1856\n",
            "Epoch 9/50\n",
            "697/697 - 9s - loss: 0.0148 - mae: 0.1253 - val_loss: 0.0481 - val_mae: 0.1801\n",
            "Epoch 10/50\n",
            "697/697 - 9s - loss: 0.0139 - mae: 0.1219 - val_loss: 0.0409 - val_mae: 0.1661\n",
            "Epoch 11/50\n",
            "697/697 - 8s - loss: 0.0128 - mae: 0.1174 - val_loss: 0.0422 - val_mae: 0.1664\n",
            "Epoch 12/50\n",
            "697/697 - 9s - loss: 0.0124 - mae: 0.1139 - val_loss: 0.0425 - val_mae: 0.1658\n",
            "Epoch 13/50\n",
            "697/697 - 8s - loss: 0.0118 - mae: 0.1124 - val_loss: 0.0430 - val_mae: 0.1658\n",
            "Epoch 14/50\n",
            "697/697 - 8s - loss: 0.0113 - mae: 0.1109 - val_loss: 0.0422 - val_mae: 0.1639\n",
            "Epoch 15/50\n",
            "697/697 - 8s - loss: 0.0112 - mae: 0.1101 - val_loss: 0.0426 - val_mae: 0.1646\n",
            "Epoch 16/50\n",
            "697/697 - 8s - loss: 0.0106 - mae: 0.1068 - val_loss: 0.0487 - val_mae: 0.1755\n",
            "Epoch 17/50\n",
            "697/697 - 8s - loss: 0.0101 - mae: 0.1039 - val_loss: 0.0492 - val_mae: 0.1770\n",
            "Epoch 18/50\n",
            "697/697 - 8s - loss: 0.0096 - mae: 0.1019 - val_loss: 0.0492 - val_mae: 0.1778\n",
            "Epoch 19/50\n",
            "697/697 - 8s - loss: 0.0096 - mae: 0.1014 - val_loss: 0.0526 - val_mae: 0.1848\n",
            "Epoch 20/50\n",
            "697/697 - 8s - loss: 0.0092 - mae: 0.0998 - val_loss: 0.0488 - val_mae: 0.1793\n",
            "\n",
            "mae kurang dari 10%\n"
          ],
          "name": "stdout"
        }
      ]
    },
    {
      "cell_type": "code",
      "metadata": {
        "colab": {
          "base_uri": "https://localhost:8080/",
          "height": 282
        },
        "id": "YU_oq27LgEwI",
        "outputId": "57fc032c-ba38-48dd-e6a7-e66bd8df1122"
      },
      "source": [
        "#Plot mae\n",
        "plt.plot(history.history['mae'], label='Training mae')\n",
        "plt.plot(history.history['val_mae'], label='Validation mae')\n",
        "plt.legend()"
      ],
      "execution_count": null,
      "outputs": [
        {
          "output_type": "execute_result",
          "data": {
            "text/plain": [
              "<matplotlib.legend.Legend at 0x7f0fe7fa28d0>"
            ]
          },
          "metadata": {
            "tags": []
          },
          "execution_count": 134
        },
        {
          "output_type": "display_data",
          "data": {
            "image/png": "[encoded data removed]",
            "text/plain": [
              "<Figure size 432x288 with 1 Axes>"
            ]
          },
          "metadata": {
            "tags": [],
            "needs_background": "light"
          }
        }
      ]
    },
    {
      "cell_type": "code",
      "metadata": {
        "colab": {
          "base_uri": "https://localhost:8080/",
          "height": 282
        },
        "id": "RY9YnOlnhWqh",
        "outputId": "4d629f77-1c1c-462a-89aa-16586db4e9f5"
      },
      "source": [
        "#Plot loss\n",
        "plt.plot(history.history['loss'], label='Training Loss')\n",
        "plt.plot(history.history['val_loss'], label='Validation Loss')\n",
        "plt.legend()"
      ],
      "execution_count": null,
      "outputs": [
        {
          "output_type": "execute_result",
          "data": {
            "text/plain": [
              "<matplotlib.legend.Legend at 0x7f0fe8ff9fd0>"
            ]
          },
          "metadata": {
            "tags": []
          },
          "execution_count": 135
        },
        {
          "output_type": "display_data",
          "data": {
            "image/png": "[encoded data removed]",
            "text/plain": [
              "<Figure size 432x288 with 1 Axes>"
            ]
          },
          "metadata": {
            "tags": [],
            "needs_background": "light"
          }
        }
      ]
    },
    {
      "cell_type": "markdown",
      "metadata": {
        "id": "xCjPh6GNzNOa"
      },
      "source": [
        "# **Forecasting**"
      ]
    },
    {
      "cell_type": "code",
      "metadata": {
        "colab": {
          "base_uri": "https://localhost:8080/"
        },
        "id": "iTeDH6aqy53B",
        "outputId": "c0786def-1237-4e43-b67e-cafd014db087"
      },
      "source": [
        "#Start with the last day in training date and predict future\n",
        "n_future = 90 #Redefining n_future to extend prediction dates beyond original n_future dates\n",
        "forecast_period_dates = pd.date_range(list(data_train_NYA['Date'])[-1], periods=n_future, freq='1d').tolist()\n",
        "\n",
        "print(forecast_period_dates)"
      ],
      "execution_count": null,
      "outputs": [
        {
          "output_type": "stream",
          "text": [
            "[Timestamp('2021-05-28 00:00:00', freq='D'), Timestamp('2021-05-29 00:00:00', freq='D'), Timestamp('2021-05-30 00:00:00', freq='D'), Timestamp('2021-05-31 00:00:00', freq='D'), Timestamp('2021-06-01 00:00:00', freq='D'), Timestamp('2021-06-02 00:00:00', freq='D'), Timestamp('2021-06-03 00:00:00', freq='D'), Timestamp('2021-06-04 00:00:00', freq='D'), Timestamp('2021-06-05 00:00:00', freq='D'), Timestamp('2021-06-06 00:00:00', freq='D'), Timestamp('2021-06-07 00:00:00', freq='D'), Timestamp('2021-06-08 00:00:00', freq='D'), Timestamp('2021-06-09 00:00:00', freq='D'), Timestamp('2021-06-10 00:00:00', freq='D'), Timestamp('2021-06-11 00:00:00', freq='D'), Timestamp('2021-06-12 00:00:00', freq='D'), Timestamp('2021-06-13 00:00:00', freq='D'), Timestamp('2021-06-14 00:00:00', freq='D'), Timestamp('2021-06-15 00:00:00', freq='D'), Timestamp('2021-06-16 00:00:00', freq='D'), Timestamp('2021-06-17 00:00:00', freq='D'), Timestamp('2021-06-18 00:00:00', freq='D'), Timestamp('2021-06-19 00:00:00', freq='D'), Timestamp('2021-06-20 00:00:00', freq='D'), Timestamp('2021-06-21 00:00:00', freq='D'), Timestamp('2021-06-22 00:00:00', freq='D'), Timestamp('2021-06-23 00:00:00', freq='D'), Timestamp('2021-06-24 00:00:00', freq='D'), Timestamp('2021-06-25 00:00:00', freq='D'), Timestamp('2021-06-26 00:00:00', freq='D'), Timestamp('2021-06-27 00:00:00', freq='D'), Timestamp('2021-06-28 00:00:00', freq='D'), Timestamp('2021-06-29 00:00:00', freq='D'), Timestamp('2021-06-30 00:00:00', freq='D'), Timestamp('2021-07-01 00:00:00', freq='D'), Timestamp('2021-07-02 00:00:00', freq='D'), Timestamp('2021-07-03 00:00:00', freq='D'), Timestamp('2021-07-04 00:00:00', freq='D'), Timestamp('2021-07-05 00:00:00', freq='D'), Timestamp('2021-07-06 00:00:00', freq='D'), Timestamp('2021-07-07 00:00:00', freq='D'), Timestamp('2021-07-08 00:00:00', freq='D'), Timestamp('2021-07-09 00:00:00', freq='D'), Timestamp('2021-07-10 00:00:00', freq='D'), Timestamp('2021-07-11 00:00:00', freq='D'), Timestamp('2021-07-12 00:00:00', freq='D'), Timestamp('2021-07-13 00:00:00', freq='D'), Timestamp('2021-07-14 00:00:00', freq='D'), Timestamp('2021-07-15 00:00:00', freq='D'), Timestamp('2021-07-16 00:00:00', freq='D'), Timestamp('2021-07-17 00:00:00', freq='D'), Timestamp('2021-07-18 00:00:00', freq='D'), Timestamp('2021-07-19 00:00:00', freq='D'), Timestamp('2021-07-20 00:00:00', freq='D'), Timestamp('2021-07-21 00:00:00', freq='D'), Timestamp('2021-07-22 00:00:00', freq='D'), Timestamp('2021-07-23 00:00:00', freq='D'), Timestamp('2021-07-24 00:00:00', freq='D'), Timestamp('2021-07-25 00:00:00', freq='D'), Timestamp('2021-07-26 00:00:00', freq='D'), Timestamp('2021-07-27 00:00:00', freq='D'), Timestamp('2021-07-28 00:00:00', freq='D'), Timestamp('2021-07-29 00:00:00', freq='D'), Timestamp('2021-07-30 00:00:00', freq='D'), Timestamp('2021-07-31 00:00:00', freq='D'), Timestamp('2021-08-01 00:00:00', freq='D'), Timestamp('2021-08-02 00:00:00', freq='D'), Timestamp('2021-08-03 00:00:00', freq='D'), Timestamp('2021-08-04 00:00:00', freq='D'), Timestamp('2021-08-05 00:00:00', freq='D'), Timestamp('2021-08-06 00:00:00', freq='D'), Timestamp('2021-08-07 00:00:00', freq='D'), Timestamp('2021-08-08 00:00:00', freq='D'), Timestamp('2021-08-09 00:00:00', freq='D'), Timestamp('2021-08-10 00:00:00', freq='D'), Timestamp('2021-08-11 00:00:00', freq='D'), Timestamp('2021-08-12 00:00:00', freq='D'), Timestamp('2021-08-13 00:00:00', freq='D'), Timestamp('2021-08-14 00:00:00', freq='D'), Timestamp('2021-08-15 00:00:00', freq='D'), Timestamp('2021-08-16 00:00:00', freq='D'), Timestamp('2021-08-17 00:00:00', freq='D'), Timestamp('2021-08-18 00:00:00', freq='D'), Timestamp('2021-08-19 00:00:00', freq='D'), Timestamp('2021-08-20 00:00:00', freq='D'), Timestamp('2021-08-21 00:00:00', freq='D'), Timestamp('2021-08-22 00:00:00', freq='D'), Timestamp('2021-08-23 00:00:00', freq='D'), Timestamp('2021-08-24 00:00:00', freq='D'), Timestamp('2021-08-25 00:00:00', freq='D')]\n"
          ],
          "name": "stdout"
        }
      ]
    },
    {
      "cell_type": "code",
      "metadata": {
        "id": "_IGYAn-P140G"
      },
      "source": [
        "forecast = model.predict(trainX[-n_future:])"
      ],
      "execution_count": null,
      "outputs": []
    },
    {
      "cell_type": "code",
      "metadata": {
        "id": "nX6EMRQj23gB"
      },
      "source": [
        "#Perform inverse transformation to rescale back to original range\n",
        "#Since we used 5 variables for transform, the inverse expects same dimensions\n",
        "#Therefore, just copy the values 5 times and discard them after inverse transform\n",
        "forecast_copies = np.repeat(forecast, df_for_training.shape[1], axis=-1)\n",
        "y_pred_future = scaler.inverse_transform(forecast_copies)[:,0]"
      ],
      "execution_count": null,
      "outputs": []
    },
    {
      "cell_type": "code",
      "metadata": {
        "id": "w2ewtkCL3xmd"
      },
      "source": [
        "#Convert timestamp to date\n",
        "forecast_dates = []\n",
        "for time_i in forecast_period_dates:\n",
        "  forecast_dates.append(time_i.date())"
      ],
      "execution_count": null,
      "outputs": []
    },
    {
      "cell_type": "code",
      "metadata": {
        "colab": {
          "base_uri": "https://localhost:8080/"
        },
        "id": "hF1c9Eip4oOl",
        "outputId": "bc823df0-d940-4aca-862f-8ce8c8c7c2cf"
      },
      "source": [
        "df_forecast = pd.DataFrame({'Date':np.array(forecast_dates), 'Open':y_pred_future})\n",
        "df_forecast['Date'] = pd.to_datetime(df_forecast['Date'])\n",
        "\n",
        "print('5 Baris Teratas:\\n', df_forecast.head())\n",
        "print('\\n5 Baris Terbawah:\\n', df_forecast.tail())\n",
        "print('\\nShape Dataset:\\n', df_forecast.shape)"
      ],
      "execution_count": null,
      "outputs": [
        {
          "output_type": "stream",
          "text": [
            "5 Baris Teratas:\n",
            "         Date          Open\n",
            "0 2021-05-28  18882.880859\n",
            "1 2021-05-29  19021.175781\n",
            "2 2021-05-30  19165.417969\n",
            "3 2021-05-31  19266.144531\n",
            "4 2021-06-01  19353.279297\n",
            "\n",
            "5 Baris Terbawah:\n",
            "          Date          Open\n",
            "85 2021-08-21  23691.445312\n",
            "86 2021-08-22  23687.775391\n",
            "87 2021-08-23  23681.593750\n",
            "88 2021-08-24  23682.058594\n",
            "89 2021-08-25  23647.884766\n",
            "\n",
            "Shape Dataset:\n",
            " (90, 2)\n"
          ],
          "name": "stdout"
        }
      ]
    },
    {
      "cell_type": "code",
      "metadata": {
        "colab": {
          "base_uri": "https://localhost:8080/"
        },
        "id": "WFwuVzGC7Pr7",
        "outputId": "430adb3b-ce20-41e5-c45e-328d6554db7f"
      },
      "source": [
        "original = data_train_NYA[['Date', 'Open']]\n",
        "original['Date'] = pd.to_datetime(original['Date'])\n",
        "original = original.loc[original['Date'] >= '2021-01-01']\n",
        "\n",
        "print('5 Baris Teratas:\\n', original.head())\n",
        "print('\\n5 Baris Terbawah:\\n', original.tail())\n",
        "print('\\nShape Dataset:\\n', original.shape)"
      ],
      "execution_count": null,
      "outputs": [
        {
          "output_type": "stream",
          "text": [
            "5 Baris Teratas:\n",
            "             Date         Open\n",
            "22337 2021-01-04  14601.45020\n",
            "22338 2021-01-05  14378.70020\n",
            "22339 2021-01-06  14594.48047\n",
            "22340 2021-01-07  14866.91992\n",
            "22341 2021-01-08  14990.51953\n",
            "\n",
            "5 Baris Terbawah:\n",
            "             Date         Open\n",
            "22434 2021-05-24  16375.00000\n",
            "22435 2021-05-25  16464.68945\n",
            "22436 2021-05-26  16390.18945\n",
            "22437 2021-05-27  16451.96094\n",
            "22438 2021-05-28  16531.94922\n",
            "\n",
            "Shape Dataset:\n",
            " (102, 2)\n"
          ],
          "name": "stdout"
        },
        {
          "output_type": "stream",
          "text": [
            "/usr/local/lib/python3.7/dist-packages/ipykernel_launcher.py:2: SettingWithCopyWarning: \n",
            "A value is trying to be set on a copy of a slice from a DataFrame.\n",
            "Try using .loc[row_indexer,col_indexer] = value instead\n",
            "\n",
            "See the caveats in the documentation: https://pandas.pydata.org/pandas-docs/stable/user_guide/indexing.html#returning-a-view-versus-a-copy\n",
            "  \n"
          ],
          "name": "stderr"
        }
      ]
    },
    {
      "cell_type": "code",
      "metadata": {
        "colab": {
          "base_uri": "https://localhost:8080/",
          "height": 385
        },
        "id": "da5MgaDJ9B4A",
        "outputId": "7eb5e5c5-ebcc-4703-f499-046ee679bbb0"
      },
      "source": [
        "sns.lineplot(original['Date'], original['Open'])\n",
        "sns.lineplot(df_forecast['Date'], df_forecast['Open'])"
      ],
      "execution_count": null,
      "outputs": [
        {
          "output_type": "stream",
          "text": [
            "/usr/local/lib/python3.7/dist-packages/seaborn/_decorators.py:43: FutureWarning: Pass the following variables as keyword args: x, y. From version 0.12, the only valid positional argument will be `data`, and passing other arguments without an explicit keyword will result in an error or misinterpretation.\n",
            "  FutureWarning\n",
            "/usr/local/lib/python3.7/dist-packages/seaborn/_decorators.py:43: FutureWarning: Pass the following variables as keyword args: x, y. From version 0.12, the only valid positional argument will be `data`, and passing other arguments without an explicit keyword will result in an error or misinterpretation.\n",
            "  FutureWarning\n"
          ],
          "name": "stderr"
        },
        {
          "output_type": "execute_result",
          "data": {
            "text/plain": [
              "<matplotlib.axes._subplots.AxesSubplot at 0x7f0fea86dc50>"
            ]
          },
          "metadata": {
            "tags": []
          },
          "execution_count": 179
        },
        {
          "output_type": "display_data",
          "data": {
            "image/png": "[encoded data removed]",
            "text/plain": [
              "<Figure size 432x288 with 1 Axes>"
            ]
          },
          "metadata": {
            "tags": [],
            "needs_background": "light"
          }
        }
      ]
    }
  ]
}